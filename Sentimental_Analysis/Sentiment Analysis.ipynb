{
 "cells": [
  {
   "cell_type": "markdown",
   "id": "d42af45e",
   "metadata": {},
   "source": [
    "# Sentiment Analysis "
   ]
  },
  {
   "cell_type": "code",
   "execution_count": 3,
   "id": "e7500ab9",
   "metadata": {},
   "outputs": [],
   "source": [
    "import pandas as pd\n",
    "import matplotlib.pyplot as plt\n",
    "\n",
    "from tensorflow.keras.preprocessing.text import Tokenizer\n",
    "from tensorflow.keras.preprocessing.sequence import pad_sequences\n",
    "from tensorflow.keras.models import Sequential\n",
    "from tensorflow.keras.layers import LSTM,Dense, Dropout, SpatialDropout1D\n",
    "from tensorflow.keras.layers import Embedding"
   ]
  },
  {
   "cell_type": "code",
   "execution_count": 4,
   "id": "74dc08c0-68c0-42df-8f31-3b6069e2b9c7",
   "metadata": {},
   "outputs": [],
   "source": [
    "df = pd.read_excel('Data.xlsx')\n",
    "df.clean_text=df.clean_text.astype(str)"
   ]
  },
  {
   "cell_type": "code",
   "execution_count": 5,
   "id": "2ebbbd23",
   "metadata": {},
   "outputs": [
    {
     "data": {
      "text/html": [
       "<div>\n",
       "<style scoped>\n",
       "    .dataframe tbody tr th:only-of-type {\n",
       "        vertical-align: middle;\n",
       "    }\n",
       "\n",
       "    .dataframe tbody tr th {\n",
       "        vertical-align: top;\n",
       "    }\n",
       "\n",
       "    .dataframe thead th {\n",
       "        text-align: right;\n",
       "    }\n",
       "</style>\n",
       "<table border=\"1\" class=\"dataframe\">\n",
       "  <thead>\n",
       "    <tr style=\"text-align: right;\">\n",
       "      <th></th>\n",
       "      <th>clean_text</th>\n",
       "      <th>category</th>\n",
       "    </tr>\n",
       "  </thead>\n",
       "  <tbody>\n",
       "    <tr>\n",
       "      <th>0</th>\n",
       "      <td>when modi promised â€œminimum government maxim...</td>\n",
       "      <td>-1</td>\n",
       "    </tr>\n",
       "    <tr>\n",
       "      <th>1</th>\n",
       "      <td>talk all the nonsense and continue all the dra...</td>\n",
       "      <td>0</td>\n",
       "    </tr>\n",
       "    <tr>\n",
       "      <th>2</th>\n",
       "      <td>what did just say vote for modi  welcome bjp t...</td>\n",
       "      <td>1</td>\n",
       "    </tr>\n",
       "    <tr>\n",
       "      <th>3</th>\n",
       "      <td>asking his supporters prefix chowkidar their n...</td>\n",
       "      <td>1</td>\n",
       "    </tr>\n",
       "    <tr>\n",
       "      <th>4</th>\n",
       "      <td>answer who among these the most powerful world...</td>\n",
       "      <td>1</td>\n",
       "    </tr>\n",
       "  </tbody>\n",
       "</table>\n",
       "</div>"
      ],
      "text/plain": [
       "                                          clean_text  category\n",
       "0  when modi promised â€œminimum government maxim...        -1\n",
       "1  talk all the nonsense and continue all the dra...         0\n",
       "2  what did just say vote for modi  welcome bjp t...         1\n",
       "3  asking his supporters prefix chowkidar their n...         1\n",
       "4  answer who among these the most powerful world...         1"
      ]
     },
     "execution_count": 5,
     "metadata": {},
     "output_type": "execute_result"
    }
   ],
   "source": [
    "df.head()"
   ]
  },
  {
   "cell_type": "code",
   "execution_count": 6,
   "id": "13bdb033",
   "metadata": {},
   "outputs": [
    {
     "data": {
      "text/plain": [
       "Index(['clean_text', 'category'], dtype='object')"
      ]
     },
     "execution_count": 6,
     "metadata": {},
     "output_type": "execute_result"
    }
   ],
   "source": [
    "df.columns"
   ]
  },
  {
   "cell_type": "code",
   "execution_count": 7,
   "id": "083bde12-5784-405c-b879-925948ca2c5a",
   "metadata": {},
   "outputs": [
    {
     "name": "stdout",
     "output_type": "stream",
     "text": [
      "(978, 2)\n"
     ]
    },
    {
     "data": {
      "text/html": [
       "<div>\n",
       "<style scoped>\n",
       "    .dataframe tbody tr th:only-of-type {\n",
       "        vertical-align: middle;\n",
       "    }\n",
       "\n",
       "    .dataframe tbody tr th {\n",
       "        vertical-align: top;\n",
       "    }\n",
       "\n",
       "    .dataframe thead th {\n",
       "        text-align: right;\n",
       "    }\n",
       "</style>\n",
       "<table border=\"1\" class=\"dataframe\">\n",
       "  <thead>\n",
       "    <tr style=\"text-align: right;\">\n",
       "      <th></th>\n",
       "      <th>clean_text</th>\n",
       "      <th>category</th>\n",
       "    </tr>\n",
       "  </thead>\n",
       "  <tbody>\n",
       "    <tr>\n",
       "      <th>0</th>\n",
       "      <td>when modi promised â€œminimum government maxim...</td>\n",
       "      <td>-1</td>\n",
       "    </tr>\n",
       "    <tr>\n",
       "      <th>2</th>\n",
       "      <td>what did just say vote for modi  welcome bjp t...</td>\n",
       "      <td>1</td>\n",
       "    </tr>\n",
       "    <tr>\n",
       "      <th>3</th>\n",
       "      <td>asking his supporters prefix chowkidar their n...</td>\n",
       "      <td>1</td>\n",
       "    </tr>\n",
       "    <tr>\n",
       "      <th>4</th>\n",
       "      <td>answer who among these the most powerful world...</td>\n",
       "      <td>1</td>\n",
       "    </tr>\n",
       "    <tr>\n",
       "      <th>8</th>\n",
       "      <td>with upcoming election india saga going import...</td>\n",
       "      <td>1</td>\n",
       "    </tr>\n",
       "  </tbody>\n",
       "</table>\n",
       "</div>"
      ],
      "text/plain": [
       "                                          clean_text  category\n",
       "0  when modi promised â€œminimum government maxim...        -1\n",
       "2  what did just say vote for modi  welcome bjp t...         1\n",
       "3  asking his supporters prefix chowkidar their n...         1\n",
       "4  answer who among these the most powerful world...         1\n",
       "8  with upcoming election india saga going import...         1"
      ]
     },
     "execution_count": 7,
     "metadata": {},
     "output_type": "execute_result"
    }
   ],
   "source": [
    "df = df[df['category'] != 0.0 ]\n",
    "print(df.shape)\n",
    "df.head(5)"
   ]
  },
  {
   "cell_type": "code",
   "execution_count": 8,
   "id": "759f40ea-ee21-49a4-8210-d7f3ac5f4d83",
   "metadata": {},
   "outputs": [],
   "source": [
    "df['category'] = df['category'].replace(to_replace={-1:'Negative',1:'Positive'}) "
   ]
  },
  {
   "cell_type": "code",
   "execution_count": 9,
   "id": "8d90afe5-d291-4102-9b63-0bd9cb3ae8c4",
   "metadata": {},
   "outputs": [
    {
     "data": {
      "text/plain": [
       "clean_text    object\n",
       "category      object\n",
       "dtype: object"
      ]
     },
     "execution_count": 9,
     "metadata": {},
     "output_type": "execute_result"
    }
   ],
   "source": [
    "df.dtypes"
   ]
  },
  {
   "cell_type": "code",
   "execution_count": 10,
   "id": "670d5f4c",
   "metadata": {},
   "outputs": [
    {
     "data": {
      "text/plain": [
       "Positive    653\n",
       "Negative    325\n",
       "Name: category, dtype: int64"
      ]
     },
     "execution_count": 10,
     "metadata": {},
     "output_type": "execute_result"
    }
   ],
   "source": [
    "df[\"category\"].value_counts()"
   ]
  },
  {
   "cell_type": "code",
   "execution_count": 11,
   "id": "6340bf9a",
   "metadata": {
    "scrolled": true,
    "tags": []
   },
   "outputs": [
    {
     "data": {
      "text/plain": [
       "(array([0, 1, 1, 1, 1, 1, 1, 1, 1, 0, 1, 0, 1, 0, 0, 0, 1, 1, 0, 1, 0, 1,\n",
       "        1, 0, 0, 1, 1, 1, 1, 1, 1, 0, 1, 0, 1, 0, 0, 0, 1, 1, 1, 1, 0, 0,\n",
       "        1, 1, 0, 1, 1, 0, 1, 1, 0, 1, 0, 0, 1, 1, 0, 1, 1, 1, 0, 1, 1, 0,\n",
       "        0, 0, 1, 0, 1, 1, 0, 1, 1, 1, 1, 1, 1, 1, 0, 1, 0, 0, 0, 1, 1, 1,\n",
       "        1, 1, 0, 0, 1, 0, 1, 0, 1, 0, 1, 1, 1, 1, 0, 1, 1, 0, 0, 1, 1, 0,\n",
       "        1, 1, 1, 1, 1, 0, 1, 0, 1, 0, 1, 0, 1, 0, 1, 0, 1, 1, 1, 0, 1, 0,\n",
       "        1, 0, 1, 1, 1, 1, 0, 1, 1, 1, 1, 0, 1, 1, 1, 0, 0, 1, 1, 1, 1, 1,\n",
       "        1, 1, 1, 1, 1, 0, 1, 0, 1, 1, 1, 1, 1, 1, 0, 1, 1, 1, 1, 0, 0, 0,\n",
       "        1, 1, 1, 1, 1, 1, 1, 1, 0, 1, 1, 1, 1, 1, 0, 1, 1, 1, 1, 1, 1, 1,\n",
       "        1, 1, 1, 0, 1, 0, 0, 0, 1, 1, 1, 1, 1, 1, 1, 0, 1, 0, 1, 1, 1, 1,\n",
       "        0, 1, 1, 1, 1, 0, 1, 0, 1, 1, 1, 1, 0, 1, 1, 0, 1, 0, 0, 1, 1, 1,\n",
       "        0, 1, 1, 1, 1, 0, 0, 1, 0, 1, 1, 0, 0, 1, 1, 0, 1, 1, 0, 1, 1, 1,\n",
       "        1, 0, 1, 1, 0, 1, 0, 0, 0, 1, 1, 1, 1, 0, 0, 1, 1, 1, 0, 0, 1, 0,\n",
       "        1, 0, 0, 1, 1, 1, 1, 0, 1, 1, 1, 0, 0, 1, 0, 0, 1, 1, 1, 1, 1, 1,\n",
       "        0, 0, 1, 1, 0, 1, 1, 1, 1, 1, 0, 1, 1, 1, 1, 0, 1, 1, 1, 1, 0, 1,\n",
       "        1, 1, 0, 0, 1, 1, 0, 1, 0, 0, 0, 1, 1, 1, 1, 1, 0, 1, 1, 1, 1, 1,\n",
       "        1, 1, 1, 1, 1, 1, 1, 0, 1, 0, 1, 0, 0, 1, 0, 1, 0, 1, 1, 1, 1, 1,\n",
       "        1, 0, 0, 0, 0, 1, 1, 1, 1, 1, 0, 1, 0, 1, 1, 1, 0, 1, 1, 1, 0, 0,\n",
       "        0, 1, 0, 1, 1, 1, 1, 0, 0, 0, 0, 0, 0, 0, 1, 0, 1, 0, 1, 1, 1, 0,\n",
       "        1, 0, 1, 1, 0, 0, 0, 1, 1, 0, 1, 1, 0, 0, 1, 1, 1, 1, 1, 0, 0, 1,\n",
       "        0, 1, 1, 0, 0, 1, 1, 0, 1, 0, 1, 1, 1, 1, 1, 1, 1, 1, 1, 1, 1, 1,\n",
       "        0, 1, 1, 1, 0, 1, 1, 1, 1, 1, 1, 1, 0, 0, 1, 0, 0, 1, 0, 1, 0, 0,\n",
       "        1, 0, 1, 0, 0, 1, 0, 1, 0, 1, 1, 1, 1, 1, 0, 1, 1, 0, 1, 1, 1, 1,\n",
       "        1, 0, 0, 1, 0, 1, 0, 1, 1, 1, 0, 1, 1, 1, 1, 1, 1, 1, 1, 0, 1, 1,\n",
       "        1, 1, 0, 1, 1, 0, 0, 0, 1, 1, 0, 1, 1, 1, 1, 1, 1, 0, 1, 1, 0, 1,\n",
       "        1, 1, 1, 0, 1, 1, 1, 1, 1, 1, 1, 1, 0, 1, 1, 0, 1, 1, 1, 1, 1, 1,\n",
       "        1, 1, 1, 0, 1, 1, 1, 0, 0, 0, 0, 1, 1, 1, 0, 1, 0, 1, 0, 1, 0, 0,\n",
       "        1, 0, 0, 0, 1, 1, 1, 1, 1, 1, 1, 0, 0, 1, 0, 0, 0, 1, 1, 1, 1, 0,\n",
       "        1, 1, 0, 0, 1, 1, 1, 1, 1, 1, 1, 0, 0, 1, 1, 1, 1, 1, 0, 0, 0, 0,\n",
       "        0, 1, 0, 1, 1, 1, 0, 1, 1, 0, 1, 1, 0, 1, 0, 1, 0, 1, 1, 1, 0, 1,\n",
       "        1, 1, 1, 0, 0, 0, 1, 1, 1, 0, 1, 0, 1, 1, 1, 1, 0, 0, 0, 1, 1, 1,\n",
       "        1, 1, 1, 0, 1, 1, 1, 0, 0, 1, 1, 0, 1, 0, 0, 0, 1, 0, 1, 0, 1, 0,\n",
       "        0, 1, 1, 0, 1, 0, 1, 0, 0, 1, 0, 1, 1, 1, 1, 0, 1, 1, 1, 1, 0, 0,\n",
       "        0, 1, 1, 0, 1, 1, 1, 1, 1, 1, 1, 1, 1, 1, 0, 1, 1, 1, 0, 1, 1, 1,\n",
       "        1, 1, 1, 1, 0, 1, 0, 1, 1, 0, 1, 1, 1, 1, 1, 0, 1, 1, 1, 1, 1, 1,\n",
       "        1, 0, 1, 1, 1, 1, 0, 1, 1, 1, 0, 1, 0, 1, 1, 1, 1, 1, 0, 0, 1, 1,\n",
       "        0, 1, 1, 1, 1, 0, 1, 1, 0, 0, 0, 1, 1, 1, 1, 1, 1, 1, 1, 1, 0, 1,\n",
       "        0, 0, 0, 1, 1, 1, 1, 1, 0, 0, 1, 1, 0, 0, 1, 1, 1, 1, 1, 1, 1, 1,\n",
       "        1, 1, 1, 1, 1, 1, 1, 1, 0, 1, 1, 1, 0, 1, 1, 0, 0, 1, 0, 1, 1, 1,\n",
       "        1, 1, 1, 1, 1, 0, 0, 1, 1, 1, 1, 1, 0, 1, 0, 1, 0, 1, 0, 0, 1, 1,\n",
       "        1, 1, 1, 1, 0, 0, 1, 1, 0, 1, 1, 1, 1, 1, 1, 0, 0, 0, 0, 0, 1, 1,\n",
       "        1, 0, 0, 1, 1, 1, 1, 0, 0, 1, 1, 1, 1, 1, 1, 1, 0, 1, 0, 0, 1, 0,\n",
       "        1, 1, 1, 0, 0, 1, 0, 1, 1, 1, 0, 1, 0, 1, 1, 0, 1, 0, 1, 0, 0, 0,\n",
       "        0, 1, 1, 0, 1, 1, 1, 1, 0, 1, 0, 1, 1, 1, 1, 1, 0, 1, 0, 1, 0, 0,\n",
       "        1, 1, 0, 1, 1, 0, 1, 1, 0, 1], dtype=int64),\n",
       " Index(['Negative', 'Positive'], dtype='object'))"
      ]
     },
     "execution_count": 11,
     "metadata": {},
     "output_type": "execute_result"
    }
   ],
   "source": [
    "sentiment_label = df.category.factorize()\n",
    "sentiment_label"
   ]
  },
  {
   "cell_type": "code",
   "execution_count": 12,
   "id": "1bb117cc",
   "metadata": {},
   "outputs": [],
   "source": [
    "tweet = df.clean_text.values\n",
    "tokenizer = Tokenizer(num_words=5000)\n",
    "tokenizer.fit_on_texts(tweet)\n",
    "vocab_size = len(tokenizer.word_index) + 1\n",
    "encoded_docs = tokenizer.texts_to_sequences(tweet)\n",
    "padded_sequence = pad_sequences(encoded_docs, maxlen=200)"
   ]
  },
  {
   "cell_type": "code",
   "execution_count": 13,
   "id": "69ed76e5",
   "metadata": {
    "scrolled": true,
    "tags": []
   },
   "outputs": [
    {
     "name": "stdout",
     "output_type": "stream",
     "text": [
      "{'modi': 1, 'the': 2, 'and': 3, 'for': 4, 'you': 5, 'will': 6, 'india': 7, 'are': 8, 'that': 9, 'this': 10, 'not': 11, 'with': 12, 'but': 13, 'has': 14, 'his': 15, 'bjp': 16, 'have': 17, 'from': 18, 'all': 19, 'like': 20, 'who': 21, 'govt': 22, 'was': 23, 'people': 24, 'vote': 25, 'more': 26, 'our': 27, 'congress': 28, 'your': 29, 'now': 30, 'they': 31, 'why': 32, 'one': 33, 'can': 34, 'dont': 35, 'only': 36, 'time': 37, 'their': 38, 'how': 39, 'even': 40, 'should': 41, 'after': 42, 'years': 43, 'its': 44, 'what': 45, 'any': 46, 'country': 47, 'government': 48, 'there': 49, 'narendra': 50, 'just': 51, 'about': 52, 'him': 53, 'rahul': 54, 'against': 55, 'again': 56, 'when': 57, 'good': 58, 'new': 59, 'power': 60, 'chowkidar': 61, 'than': 62, 'also': 63, 'which': 64, 'modis': 65, 'make': 66, 'get': 67, 'via': 68, 'indian': 69, 'election': 70, 'sir': 71, 'party': 72, 'better': 73, 'want': 74, 'elections': 75, 'best': 76, 'out': 77, 'nation': 78, '2019': 79, 'would': 80, 'great': 81, 'under': 82, 'take': 83, 'chor': 84, 'gandhi': 85, 'know': 86, 'become': 87, 'been': 88, 'right': 89, 'fake': 90, 'many': 91, 'first': 92, 'did': 93, 'give': 94, 'minister': 95, 'every': 96, 'think': 97, 'most': 98, 'these': 99, 'because': 100, 'such': 101, 'win': 102, 'please': 103, 'some': 104, 'see': 105, 'last': 106, 'hai': 107, 'were': 108, 'support': 109, 'being': 110, 'never': 111, 'money': 112, 'very': 113, 'had': 114, 'much': 115, 'well': 116, 'said': 117, 'indias': 118, 'made': 119, 'them': 120, 'opposition': 121, 'media': 122, 'her': 123, 'leader': 124, 'other': 125, 'still': 126, 'failure': 127, 'always': 128, 'sure': 129, 'too': 130, 'come': 131, 'hate': 132, 'read': 133, 'pakistan': 134, 'corrupt': 135, 'way': 136, 'here': 137, 'name': 138, 'state': 139, 'modiâ€™': 140, 'done': 141, 'then': 142, 'back': 143, 'work': 144, 'adani': 145, 'may': 146, 'need': 147, 'politics': 148, 'where': 149, 'rule': 150, 'over': 151, 'prime': 152, 'she': 153, 'says': 154, '2014': 155, 'hindu': 156, 'family': 157, 'agenda': 158, 'doing': 159, 'keep': 160, 'news': 161, 'world': 162, 'muslims': 163, 'candidate': 164, 'political': 165, 'own': 166, 'due': 167, 'does': 168, 'development': 169, 'life': 170, 'corruption': 171, 'namo': 172, 'leaders': 173, 'without': 174, 'nirav': 175, 'love': 176, 'called': 177, 'must': 178, 'days': 179, 'during': 180, 'jai': 181, 'got': 182, 'wants': 183, 'say': 184, 'going': 185, 'given': 186, 'social': 187, 'vision': 188, 'before': 189, 'could': 190, 'economy': 191, 'strong': 192, 'since': 193, 'thing': 194, 'let': 195, 'already': 196, 'cant': 197, 'action': 198, 'public': 199, 'future': 200, 'bhi': 201, 'voting': 202, 'free': 203, 'modiji': 204, 'poor': 205, 'once': 206, 'same': 207, 'etc': 208, 'nothing': 209, 'job': 210, 'today': 211, 'look': 212, 'into': 213, 'singh': 214, 'use': 215, 'ppl': 216, 'tweet': 217, 'comes': 218, 'imran': 219, 'help': 220, 'selling': 221, 'bring': 222, 'high': 223, 'real': 224, 'fakendra': 225, 'important': 226, 'used': 227, 'man': 228, 'tell': 229, 'person': 230, 'hindus': 231, 'rich': 232, 'anything': 233, 'yrs': 234, 'killed': 235, 'ever': 236, 'forget': 237, 'failed': 238, 'lies': 239, 'jobs': 240, 'whole': 241, 'thats': 242, 'difference': 243, 'reason': 244, 'truth': 245, 'true': 246, 'remember': 247, 'call': 248, 'remove': 249, 'those': 250, 'nehru': 251, 'shows': 252, 'making': 253, 'live': 254, 'guys': 255, 'next': 256, 'enough': 257, 'while': 258, 'off': 259, 'campaign': 260, 'defeat': 261, 'project': 262, 'voters': 263, 'muslim': 264, 'answer': 265, 'heart': 266, 'education': 267, 'others': 268, 'fight': 269, 'wrong': 270, 'yes': 271, 'thanks': 272, 'doesnt': 273, 'times': 274, 'lost': 275, 'single': 276, 'didnt': 277, 'decision': 278, 'day': 279, 'biopic': 280, 'started': 281, 'another': 282, 'shri': 283, 'fear': 284, 'term': 285, 'seen': 286, 'votes': 287, 'tax': 288, 'two': 289, 'mother': 290, 'majority': 291, 'cong': 292, 'bank': 293, 'thought': 294, 'getting': 295, 'delhi': 296, 'rights': 297, 'attack': 298, 'jharkhand': 299, 'becomes': 300, 'sez': 301, 'save': 302, 'long': 303, 'fact': 304, 'wont': 305, 'change': 306, 'governor': 307, 'bad': 308, 'happy': 309, 'between': 310, 'sold': 311, 'hope': 312, 'mind': 313, 'national': 314, 'put': 315, 'leadership': 316, 'seat': 317, 'year': 318, 'app': 319, 'trying': 320, 'happened': 321, 'aap': 322, 'few': 323, 'issues': 324, 'giving': 325, 'promise': 326, 'came': 327, 'cow': 328, 'both': 329, 'sonia': 330, 'women': 331, 'seems': 332, 'till': 333, 'feel': 334, 'shame': 335, 'common': 336, 'upa': 337, 'rajasthan': 338, 'questions': 339, 'full': 340, 'propaganda': 341, 'stop': 342, 'told': 343, 'supporters': 344, 'clear': 345, 'things': 346, 'honest': 347, 'â€™': 348, 'actually': 349, 'huge': 350, 'second': 351, 'wish': 352, 'join': 353, 'worst': 354, 'everyone': 355, 'citizens': 356, 'took': 357, 'understand': 358, 'rss': 359, 'credit': 360, 'face': 361, 'hind': 362, 'believe': 363, 'behind': 364, 'including': 365, 'thinking': 366, 'role': 367, 'really': 368, 'candidates': 369, 'lets': 370, 'indians': 371, 'final': 372, 'terrorist': 373, 'clean': 374, 'rank': 375, 'indira': 376, 'level': 377, 'biggest': 378, 'kalyan': 379, 'workers': 380, 'farmers': 381, 'start': 382, 'lok': 383, 'sabha': 384, 'states': 385, 'tshirts': 386, 'himself': 387, 'data': 388, 'contest': 389, 'main': 390, 'coming': 391, 'chowkidars': 392, 'wave': 393, 'swamy': 394, 'saying': 395, 'mean': 396, 'anti': 397, 'bsp': 398, 'govts': 399, 'care': 400, 'president': 401, 'point': 402, 'growth': 403, 'personal': 404, 'dear': 405, 'tata': 406, 'knows': 407, 'gave': 408, 'watch': 409, 'ensure': 410, 'donâ€™': 411, 'asked': 412, 'stupid': 413, 'false': 414, 'towards': 415, 'through': 416, 'each': 417, 'youth': 418, 'down': 419, 'terrorists': 420, 'kind': 421, 'twitter': 422, 'company': 423, 'left': 424, 'unemployment': 425, 'lol': 426, 'worry': 427, 'abt': 428, 'blind': 429, 'forever': 430, 'clearly': 431, 'educated': 432, 'team': 433, 'case': 434, 'sector': 435, 'bhakt': 436, 'taking': 437, 'community': 438, 'calls': 439, 'shah': 440, 'shud': 441, 'peace': 442, 'brought': 443, 'march': 444, 'khan': 445, 'gives': 446, 'far': 447, 'choose': 448, 'end': 449, 'employment': 450, 'post': 451, 'funds': 452, 'ready': 453, 'btw': 454, 'wanted': 455, 'leave': 456, 'elected': 457, 'deal': 458, 'gst': 459, 'try': 460, 'economic': 461, 'religion': 462, 'waste': 463, 'dirty': 464, 'five': 465, 'hatred': 466, 'simple': 467, 'makes': 468, 'question': 469, 'videos': 470, 'praise': 471, 'sapna': 472, 'protect': 473, 'kejriwal': 474, 'caste': 475, 'proud': 476, 'find': 477, 'ask': 478, 'parties': 479, 'alone': 480, 'share': 481, 'atleast': 482, 'rafale': 483, 'health': 484, 'crore': 485, 'based': 486, 'act': 487, 'acting': 488, 'south': 489, 'report': 490, 'story': 491, 'something': 492, 'order': 493, '2017': 494, 'show': 495, 'class': 496, 'looking': 497, 'bhakts': 498, 'goes': 499, 'blame': 500, 'film': 501, 'safe': 502, 'writes': 503, 'low': 504, 'big': 505, 'small': 506, 'busy': 507, 'democracy': 508, 'destroyed': 509, 'yet': 510, 'ground': 511, 'possible': 512, 'â€¦': 513, 'nice': 514, 'idea': 515, 'lot': 516, 'stolen': 517, 'months': 518, 'request': 519, 'alliance': 520, 'rise': 521, 'necessary': 522, 'promised': 523, 'campaigner': 524, 'asking': 525, 'trump': 526, 'looks': 527, 'fast': 528, 'play': 529, 'alive': 530, 'gdp': 531, 'problem': 532, 'expect': 533, 'gets': 534, 'needs': 535, 'friends': 536, 'success': 537, 'law': 538, 'place': 539, 'general': 540, 'taken': 541, 'created': 542, 'record': 543, 'governance': 544, 'promises': 545, 'whatever': 546, 'ideology': 547, 'bharat': 548, 'sarkar': 549, 'destroying': 550, 'forward': 551, 'agree': 552, 'someone': 553, 'air': 554, 'birth': 555, 'fails': 556, 'vikas': 557, 'chance': 558, 'working': 559, 'per': 560, 'constituencies': 561, 'kashmir': 562, 'having': 563, 'known': 564, 'line': 565, 'respect': 566, 'might': 567, 'capable': 568, 'men': 569, 'house': 570, 'changed': 571, 'crores': 572, 'soon': 573, 'happen': 574, 'according': 575, 'whether': 576, 'isnt': 577, 'billion': 578, 'west': 579, 'ratan': 580, 'choice': 581, 'cases': 582, 'self': 583, 'varanasi': 584, 'worlds': 585, 'worked': 586, 'declared': 587, 'land': 588, 'past': 589, 'ram': 590, '23rd': 591, 'emerge': 592, 'victorious': 593, 'independence': 594, 'fun': 595, 'led': 596, 'hard': 597, 'kar': 598, 'reality': 599, 'anyone': 600, 'proved': 601, 'fool': 602, 'citizen': 603, 'able': 604, 'nahi': 605, 'book': 606, 'cannot': 607, 'owaisi': 608, 'seriously': 609, 'office': 610, 'mumbai': 611, 'ganga': 612, 'gang': 613, 'million': 614, 'supported': 615, 'major': 616, 'less': 617, 'almost': 618, 'spent': 619, 'became': 620, 'akbaruddin': 621, 'mandya': 622, 'points': 623, 'salesman': 624, 'har': 625, 'ghar': 626, 'ambani': 627, 'pak': 628, 'sad': 629, 'matter': 630, 'expected': 631, 'among': 632, 'powerful': 633, 'thatâ€™': 634, 'loksabha': 635, 'hand': 636, 'entire': 637, 'incompetent': 638, 'directly': 639, 'looted': 640, 'police': 641, 'nri': 642, 'followers': 643, 'system': 644, 'journalism': 645, 'scared': 646, 'little': 647, 'telling': 648, 'terror': 649, 'open': 650, 'message': 651, 'unlike': 652, 'prices': 653, 'worried': 654, 'loot': 655, 'hain': 656, 'becoming': 657, 'within': 658, 'won': 659, 'schemes': 660, 'steps': 661, 'bengal': 662, 'history': 663, 'dynasty': 664, 'absolute': 665, 'nda': 666, 'hatao': 667, 'chaiwala': 668, 'wah': 669, 'achievements': 670, 'environment': 671, 'control': 672, 'disaster': 673, 'chowkidaar': 674, 'above': 675, 'surely': 676, 'maha': 677, 'cost': 678, 'though': 679, 'demonetization': 680, 'yogi': 681, 'language': 682, 'definitely': 683, 'annually': 684, 'karnataka': 685, 'central': 686, 'quite': 687, 'reasons': 688, 'wishes': 689, 'desh': 690, 'similar': 691, 'bail': 692, 'instead': 693, 'issue': 694, 'wasnt': 695, 'despite': 696, 'scams': 697, 'joins': 698, 'else': 699, 'polls': 700, 'word': 701, 'concerned': 702, 'card': 703, 'held': 704, 'body': 705, 'benefit': 706, 'themselves': 707, 'intentions': 708, 'exposed': 709, 'loss': 710, 'crying': 711, 'press': 712, 'remain': 713, 'elect': 714, 'base': 715, 'minorities': 716, 'bigger': 717, 'mla': 718, 'china': 719, 'tolerated': 720, 'week': 721, 'former': 722, 'blessings': 723, 'went': 724, 'extent': 725, 'lack': 726, 'à¥€': 727, 'raga': 728, 'voter': 729, 'channel': 730, 'bill': 731, 'marketing': 732, 'cronies': 733, 'video': 734, 'gupta': 735, 'lakh': 736, 'jail': 737, 'criticism': 738, 'à¥‡à¤‚': 739, 'names': 740, 'nationalist': 741, 'cabinet': 742, 'waters': 743, 'firm': 744, 'words': 745, 'talking': 746, 'relation': 747, 'write': 748, 'visit': 749, 'jawans': 750, 'file': 751, 'responsible': 752, 'three': 753, 'policy': 754, 'budget': 755, 'deserves': 756, 'religious': 757, 'article': 758, 'optimistic': 759, 'number': 760, 'fine': 761, 'hindustan': 762, 'mein': 763, 'home': 764, 'defence': 765, 'criminal': 766, 'activities': 767, 'achievement': 768, 'concerns': 769, 'seats': 770, 'century': 771, 'firmly': 772, 'policies': 773, 'javed': 774, 'akhtar': 775, 'express': 776, 'voted': 777, 'security': 778, 'doesnâ€™': 779, 'condemn': 780, 'movie': 781, 'tiwari': 782, 'example': 783, 'lakhs': 784, 'chowkidhar': 785, 'old': 786, 'sab': 787, 'bhai': 788, 'mai': 789, 'ago': 790, 'chief': 791, 'graffiti': 792, 'kids': 793, 'black': 794, 'ruled': 795, 'assembly': 796, 'hitler': 797, 'pass': 798, 'means': 799, 'malnutrition': 800, 'comparison': 801, 'war': 802, 'laws': 803, 'speak': 804, 'tea': 805, 'efforts': 806, 'baap': 807, 'force': 808, 'digital': 809, 'ministers': 810, 'nationalism': 811, 'aadhaar': 812, 'return': 813, 'shut': 814, 'arrested': 815, 'lie': 816, 'demon': 817, 'god': 818, 'wins': 819, 'together': 820, 'happiness': 821, 'countries': 822, 'balakot': 823, 'stopped': 824, 'lynchings': 825, 'happens': 826, 'tharoor': 827, 'strike': 828, 'nor': 829, 'away': 830, 'deliver': 831, 'everything': 832, 'currency': 833, 'code': 834, 'hereâ€™': 835, 'regime': 836, 'below': 837, 'rate': 838, 'fire': 839, 'electoral': 840, 'pulwama': 841, 'aligarh': 842, 'kindly': 843, 'compare': 844, 'gujrat': 845, 'amit': 846, 'guy': 847, 'star': 848, 'shape': 849, 'inc': 850, 'kya': 851, 'valid': 852, 'turn': 853, 'tweets': 854, 'using': 855, 'built': 856, 'faith': 857, 'ahead': 858, 'destroy': 859, 'democratic': 860, 'nations': 861, 'complete': 862, 'completed': 863, 'aur': 864, 'proof': 865, 'bangalore': 866, 'holding': 867, '1000': 868, 'correct': 869, 'scheme': 870, 'sharma': 871, 'individual': 872, 'rest': 873, 'keeping': 874, 'sent': 875, 'politicians': 876, 'millions': 877, 'thru': 878, 'superpower': 879, 'perfect': 880, 'facts': 881, 'conference': 882, 'army': 883, 'claiming': 884, 'contesting': 885, '2000': 886, 'london': 887, 'largest': 888, 'stand': 889, 'realising': 890, 'prosperous': 891, 'temple': 892, 'expanding': 893, 'harmony': 894, 'sell': 895, 'group': 896, 'yeah': 897, 'heres': 898, 'career': 899, 'talk': 900, 'hence': 901, 'luck': 902, 'janta': 903, 'defeating': 904, 'calling': 905, 'mumkin': 906, 'secular': 907, 'publicity': 908, 'islamic': 909, 'works': 910, 'radio': 911, 'couldnt': 912, 'â\\x81¦': 913, 'burning': 914, 'disappointed': 915, '2002': 916, 'step': 917, 'court': 918, 'received': 919, 'run': 920, 'doubt': 921, 'rajat': 922, 'living': 923, 'abuse': 924, 'knowledge': 925, 'register': 926, 'rather': 927, 'missing': 928, 'account': 929, 'kid': 930, 'ticket': 931, 'compared': 932, 'resources': 933, 'à¥‡': 934, 'gadkari': 935, 'finding': 936, 'justice': 937, 'business': 938, 'temples': 939, 'welcome': 940, 'upcoming': 941, 'current': 942, 'demonetisation': 943, 'either': 944, 'dark': 945, 'side': 946, 'terrorism': 947, 'didnâ€™': 948, 'recently': 949, 'hear': 950, 'nomination': 951, 'pradesh': 952, 'ensured': 953, 'increase': 954, 'born': 955, 'female': 956, 'check': 957, 'senior': 958, 'least': 959, 'protests': 960, 'met': 961, 'rashtra': 962, 'wait': 963, 'baat': 964, 'higher': 965, 'wonder': 966, 'delivery': 967, '2nd': 968, 'build': 969, 'criticise': 970, 'shit': 971, '100': 972, 'nature': 973, 'except': 974, 'super': 975, 'thereâ€™': 976, 'disagree': 977, 'learn': 978, 'minority': 979, 'selfish': 980, 'extremist': 981, 'crime': 982, 'coz': 983, 'delivered': 984, 'track': 985, 'count': 986, 'sandip': 987, 'sense': 988, 'regards': 989, 'girls': 990, 'ordered': 991, 'interest': 992, 'blog': 993, 'choudhary': 994, 'manoj': 995, 'defame': 996, 'perhaps': 997, 'head': 998, 'duty': 999, 'bcoz': 1000, 'mms': 1001, 'weak': 1002, 'fed': 1003, 'damaged': 1004, 'dreams': 1005, 'mere': 1006, 'create': 1007, 'wise': 1008, 'anyway': 1009, 'funny': 1010, 'near': 1011, 'pakistani': 1012, 'mirror': 1013, 'details': 1014, 'experience': 1015, 'increased': 1016, 'walk': 1017, 'allow': 1018, 'mode': 1019, 'comments': 1020, 'das': 1021, 'nota': 1022, 'dancer': 1023, 'bar': 1024, 'humanity': 1025, 'documents': 1026, 'age': 1027, 'tshirt': 1028, 'writing': 1029, 'yaar': 1030, 'hell': 1031, 'jis': 1032, 'sorry': 1033, 'dream': 1034, 'offered': 1035, 'pilots': 1036, 'qualities': 1037, 'beaten': 1038, 'gandhis': 1039, 'comprehensive': 1040, 'type': 1041, 'wat': 1042, 'strongly': 1043, 'toi': 1044, 'takes': 1045, 'meet': 1046, 'month': 1047, 'editor': 1048, 'sharing': 1049, 'speaking': 1050, 'north': 1051, 'suffer': 1052, 'unless': 1053, 'bother': 1054, 'chanakya': 1055, 'resolve': 1056, 'blood': 1057, 'son': 1058, 'add': 1059, 'kejri': 1060, 'wake': 1061, 'politician': 1062, 'dare': 1063, 'confidence': 1064, 'surgical': 1065, 'food': 1066, 'neutral': 1067, 'maker': 1068, 'lavishes': 1069, 'absolutely': 1070, 'relationship': 1071, 'reform': 1072, 'top': 1073, 'grow': 1074, 'represent': 1075, 'serious': 1076, 'bjps': 1077, 'modishah': 1078, 'heavy': 1079, 'paper': 1080, 'four': 1081, 'crisis': 1082, 'slowly': 1083, 'experienced': 1084, 'messaging': 1085, 'evms': 1086, 'eci': 1087, 'played': 1088, 'idiot': 1089, 'modiâ€¦': 1090, 'milind': 1091, 'deora': 1092, 'fix': 1093, 'pending': 1094, 'avatar': 1095, 'remaining': 1096, 'precious': 1097, 'miss': 1098, 'beat': 1099, 'whistle': 1100, 'cap': 1101, 'havent': 1102, 'america': 1103, 'feeling': 1104, 'papu': 1105, '300': 1106, 'lotus': 1107, 'banner': 1108, 'naam': 1109, 'local': 1110, 'mandate': 1111, 'accident': 1112, 'winning': 1113, 'â€˜': 1114, 'late': 1115, 'threatened': 1116, 'death': 1117, 'raj': 1118, 'thieves': 1119, 'views': 1120, 'baar': 1121, 'freedom': 1122, 'legal': 1123, 'cess': 1124, 'hve': 1125, 'list': 1126, 'profile': 1127, 'sheer': 1128, 'hypocrisy': 1129, 'tag': 1130, 'growing': 1131, 'situation': 1132, 'mute': 1133, 'speeches': 1134, 'golden': 1135, 'front': 1136, 'whats': 1137, 'official': 1138, 'site': 1139, 'friendly': 1140, 'mat': 1141, 'convert': 1142, 'tweeting': 1143, 'culture': 1144, 'massive': 1145, 'intelligence': 1146, 'caught': 1147, 'guts': 1148, 'results': 1149, 'course': 1150, 'degree': 1151, 'wisely': 1152, 'later': 1153, 'model': 1154, 'accept': 1155, 'rant': 1156, 'manifesto': 1157, 'thinks': 1158, 'exercise': 1159, 'joined': 1160, 'forced': 1161, 'imagine': 1162, 'odisha': 1163, 'response': 1164, 'joke': 1165, 'peoples': 1166, 'raising': 1167, 'fighting': 1168, 'chandrababu': 1169, 'naidu': 1170, 'cares': 1171, 'thank': 1172, 'plan': 1173, 'provide': 1174, 'platform': 1175, 'foundation': 1176, '2022': 1177, 'laid': 1178, 'housing': 1179, 'aspirations': 1180, 'realise': 1181, 'white': 1182, 'standing': 1183, 'felt': 1184, 'fans': 1185, 'gujarat': 1186, 'rupee': 1187, 'running': 1188, 'chowkidari': 1189, 'incident': 1190, 'ways': 1191, 'itself': 1192, 'killing': 1193, 'chokidar': 1194, 'illegal': 1195, 'revenue': 1196, 'tells': 1197, 'persons': 1198, 'encourage': 1199, 'bcz': 1200, 'reply': 1201, 'image': 1202, 'removed': 1203, 'pretending': 1204, 'vivek': 1205, 'influence': 1206, 'satisfied': 1207, 'tht': 1208, 'kuch': 1209, 'lynching': 1210, 'nowhere': 1211, 'goons': 1212, 'population': 1213, 'ill': 1214, 'appeal': 1215, 'village': 1216, 'aware': 1217, 'spread': 1218, 'favour': 1219, 'adityanath': 1220, '1st': 1221, 'highest': 1222, 'mrmodi': 1223, 'manner': 1224, 'tickets': 1225, 'section': 1226, 'set': 1227, 'website': 1228, 'keeps': 1229, 'trouble': 1230, 'awareness': 1231, 'reached': 1232, 'door': 1233, 'trend': 1234, 'visionary': 1235, 'delusional': 1236, 'trillion': 1237, 'loan': 1238, 'predict': 1239, 'assuming': 1240, 'punish': 1241, 'riots': 1242, 'break': 1243, 'third': 1244, 'previous': 1245, 'showing': 1246, 'finally': 1247, 'hater': 1248, 'different': 1249, 'dmk': 1250, 'jds': 1251, 'lal': 1252, 'worth': 1253, 'hour': 1254, 'biryani': 1255, 'released': 1256, 'manohar': 1257, 'constituency': 1258, 'morning': 1259, '2024': 1260, 'exactly': 1261, 'listen': 1262, 'slogan': 1263, 'threat': 1264, 'isi': 1265, 'aurangzeb': 1266, 'fan': 1267, 'pro': 1268, 'crimes': 1269, 'kerala': 1270, 'resign': 1271, 'impress': 1272, 'kcr': 1273, 'reduced': 1274, 'auction': 1275, 'masood': 1276, 'â€œ': 1277, 'probably': 1278, 'congressi': 1279, 'ordinary': 1280, 'acts': 1281, 'à¥\\x8d': 1282, 'à¥‹': 1283, 'à¤¿': 1284, 'abused': 1285, 'paid': 1286, 'bedi': 1287, 'yatra': 1288, 'race': 1289, 'source': 1290, 'cheat': 1291, 'fault': 1292, 'baroda': 1293, 'tenure': 1294, 'bribes': 1295, 'revenge': 1296, 'npas': 1297, 'pre': 1298, 'buffaloes': 1299, 'deshbhakt': 1300, 'begin': 1301, 'difficult': 1302, 'exit': 1303, 'psus': 1304, 'prefix': 1305, 'service': 1306, 'filthy': 1307, 'abuses': 1308, 'putin': 1309, 'leads': 1310, 'gay': 1311, 'services': 1312, 'castes': 1313, 'view': 1314, 'dalits': 1315, 'none': 1316, 'guru': 1317, 'protecting': 1318, 'tweeted': 1319, 'plz': 1320, 'gen': 1321, 'belief': 1322, 'entering': 1323, 'khammam': 1324, 'select': 1325, 'popular': 1326, 'mass': 1327, 'movement': 1328, 'empowerment': 1329, 'witnessed': 1330, 'positive': 1331, 'paradigm': 1332, 'shift': 1333, 'slashing': 1334, 'indicator': 1335, 'deities': 1336, 'misogynistic': 1337, 'tradition': 1338, 'totally': 1339, 'written': 1340, 'repressive': 1341, 'result': 1342, 'latest': 1343, 'survey': 1344, 'interested': 1345, 'handle': 1346, 'personally': 1347, 'sirji': 1348, 'impressive': 1349, 'defeated': 1350, 'arrogant': 1351, 'touch': 1352, 'nvr': 1353, 'rascal': 1354, 'victory': 1355, 'campaigns': 1356, 'sit': 1357, 'relatives': 1358, 'shall': 1359, 'ensuring': 1360, 'facing': 1361, 'outcome': 1362, 'approach': 1363, 'drag': 1364, 'spreading': 1365, 'fyi': 1366, 'forgot': 1367, 'dollar': 1368, 'considering': 1369, 'rising': 1370, 'channels': 1371, 'contests': 1372, 'shakti': 1373, 'heights': 1374, 'inform': 1375, 'numbers': 1376, 'loose': 1377, 'scam': 1378, 'intellectuals': 1379, 'decide': 1380, 'treat': 1381, 'failing': 1382, 'attempt': 1383, 'idiots': 1384, 'attacking': 1385, 'dishonest': 1386, 'pictures': 1387, 'khans': 1388, 'masses': 1389, 'match': 1390, 'mad': 1391, 'producer': 1392, 'ssingh': 1393, 'row': 1394, 'entertainment': 1395, 'banned': 1396, 'screwed': 1397, 'weeks': 1398, 'mongers': 1399, 'concern': 1400, 'worthy': 1401, 'autocratic': 1402, 'norm': 1403, 'kimjong': 1404, 'judge': 1405, 'petrol': 1406, 'â‚¹': 1407, 'à¤¾à¥‡à¤¶à¤¬à¤šà¤¾': 1408, 'recent': 1409, 'campaigning': 1410, 'vande': 1411, 'fulfill': 1412, 'enemies': 1413, 'camp': 1414, 'humane': 1415, 'limited': 1416, 'institution': 1417, 'tsunami': 1418, 'mallaya': 1419, 'incompetency': 1420, 'blatant': 1421, 'misuse': 1422, 'rampant': 1423, 'misgovernance': 1424, 'overt': 1425, 'mob': 1426, 'bars': 1427, 'wife': 1428, 'returned': 1429, 'rakha': 1430, 'actor': 1431, 'chowkidhars': 1432, 'brahmin': 1433, 'focus': 1434, 'uncomfortable': 1435, 'normal': 1436, 'lives': 1437, 'offer': 1438, 'planes': 1439, 'endian': 1440, 'replaced': 1441, 'detection': 1442, 'sub': 1443, 'performance': 1444, 'usa': 1445, 'tdp': 1446, 'pension': 1447, 'chinook': 1448, 'helicopter': 1449, 'urge': 1450, 'mocking': 1451, 'appears': 1452, 'halala': 1453, 'progress': 1454, '7th': 1455, 'mindset': 1456, 'found': 1457, 'attacks': 1458, 'independent': 1459, 'mainly': 1460, 'reforms': 1461, 'reach': 1462, 'stars': 1463, 'accountability': 1464, 'fair': 1465, 'champion': 1466, 'couldnâ€™': 1467, 'needed': 1468, 'gurcharan': 1469, 'modern': 1470, 'stronger': 1471, 'centre': 1472, 'non': 1473, 'research': 1474, 'affected': 1475, 'fared': 1476, 'quality': 1477, 'gov': 1478, 'fears': 1479, 'option': 1480, 'reveal': 1481, 'javadekars': 1482, 'controversial': 1483, 'amendments': 1484, 'environmental': 1485, 'procedures': 1486, 'sought': 1487, 'mins': 1488, 'arrogance': 1489, 'knowing': 1490, 'mamta': 1491, 'combine': 1492, 'decent': 1493, 'photos': 1494, 'celebrities': 1495, 'buy': 1496, 'bigots': 1497, 'analysis': 1498, 'defending': 1499, 'prove': 1500, 'loyalty': 1501, 'seem': 1502, 'lucky': 1503, 'curious': 1504, 'management': 1505, 'access': 1506, 'toilet': 1507, 'villages': 1508, 'electricity': 1509, 'benefitted': 1510, 'beloved': 1511, 'oath': 1512, 'corrupted': 1513, 'guess': 1514, 'reelected': 1515, 'isnâ€™': 1516, 'divides': 1517, 'boti': 1518, 'officials': 1519, 'ensures': 1520, 'ryt': 1521, 'crony': 1522, 'promising': 1523, 'ten': 1524, 'serve': 1525, 'refer': 1526, 'viral': 1527, 'gaali': 1528, 'excellent': 1529, 'comment': 1530, 'postcard': 1531, 'sustain': 1532, 'supporter': 1533, 'antinational': 1534, 'hes': 1535, 'east': 1536, 'asks': 1537, 'human': 1538, 'equally': 1539, 'contributed': 1540, 'drswamys': 1541, 'dharma': 1542, 'index': 1543, '2013': 1544, '2018': 1545, '140': 1546, 'raids': 1547, 'rajdeep': 1548, 'choukidaar': 1549, 'apne': 1550, 'additional': 1551, 'challenge': 1552, 'intolerant': 1553, 'produce': 1554, 'rajiv': 1555, 'managing': 1556, 'substantial': 1557, 'manage': 1558, 'allowed': 1559, 'empower': 1560, 'information': 1561, 'convince': 1562, 'bjpmodi': 1563, 'hating': 1564, 'bit': 1565, 'accused': 1566, 'sochta': 1567, 'earlier': 1568, 'following': 1569, 'ndtv': 1570, 'choors': 1571, 'chori': 1572, 'wherever': 1573, 'chant': 1574, 'celebrate': 1575, 'dialogue': 1576, 'looting': 1577, 'spot': 1578, 'brain': 1579, 'ilk': 1580, 'target': 1581, 'investment': 1582, 'duo': 1583, 'tons': 1584, 'repeated': 1585, 'warnings': 1586, 'design': 1587, 'greater': 1588, 'mandir': 1589, 'art': 1590, 'alternative': 1591, 'jee': 1592, 'butcher': 1593, 'signed': 1594, 'mafia': 1595, 'pms': 1596, 'nuclear': 1597, 'generation': 1598, 'visible': 1599, 'lady': 1600, 'speaks': 1601, 'suffering': 1602, 'unprecedented': 1603, 'agrarian': 1604, 'gandhiâ€™': 1605, 'nehrugandhi': 1606, 'brake': 1607, 'profession': 1608, 'trail': 1609, 'opponent': 1610, 'multipronged': 1611, 'across': 1612, 'large': 1613, 'bought': 1614, 'trust': 1615, 'evm': 1616, 'victim': 1617, 'heard': 1618, 'jet': 1619, 'iaf': 1620, 'hesitate': 1621, 'signal': 1622, 'minimum': 1623, 'partners': 1624, 'treated': 1625, 'belongs': 1626, 'bigotry': 1627, 'forests': 1628, 'voice': 1629, 'gonna': 1630, 'peaceful': 1631, 'countryhe': 1632, 'chowkidarbut': 1633, 'fraudulent': 1634, 'gabbar': 1635, 'actual': 1636, 'businesses': 1637, 'ani': 1638, 'canâ€™': 1639, 'sign': 1640, 'dust': 1641, 'logic': 1642, 'economically': 1643, 'percent': 1644, 'fools': 1645, 'agreed': 1646, 'counter': 1647, 'rafales': 1648, 'fighter': 1649, 'raffles': 1650, 'fail': 1651, 'dost': 1652, 'field': 1653, 'technology': 1654, 'options': 1655, 'lootus': 1656, 'lines': 1657, 'modified': 1658, 'division': 1659, 'lead': 1660, 'naya': 1661, 'congres': 1662, 'thier': 1663, 'standard': 1664, 'politically': 1665, 'especially': 1666, 'bihar': 1667, 'buried': 1668, 'kisan': 1669, 'publish': 1670, 'mudra': 1671, 'cheating': 1672, 'accounts': 1673, 'humans': 1674, 'several': 1675, 'subject': 1676, 'dominant': 1677, 'crap': 1678, 'enjoy': 1679, 'ceo': 1680, 'blaming': 1681, 'dog': 1682, 'mrs': 1683, 'joining': 1684, 'showed': 1685, 'energy': 1686, 'raghuram': 1687, 'rajan': 1688, 'fraudsters': 1689, 'early': 1690, 'thereafter': 1691, 'reminders': 1692, 'dnt': 1693, 'obsessed': 1694, 'comedian': 1695, 'sees': 1696, 'sitting': 1697, 'begging': 1698, 'print': 1699, 'added': 1700, 'actions': 1701, 'die': 1702, 'laughing': 1703, 'jobless': 1704, 'dumb': 1705, 'negative': 1706, 'shouting': 1707, 'idiotic': 1708, 'â€\\x8dâ™‚ï¸\\x8f': 1709, 'inspite': 1710, 'rbi': 1711, 'babu': 1712, 'wouldâ€™': 1713, 'thn': 1714, 'presented': 1715, 'intelligent': 1716, 'certificates': 1717, 'collected': 1718, 'reject': 1719, 'disastrous': 1720, 'badly': 1721, 'bet': 1722, 'cud': 1723, 'further': 1724, 'irrespective': 1725, 'middle': 1726, 'introduced': 1727, 'violence': 1728, 'hoga': 1729, 'figure': 1730, 'required': 1731, 'payers': 1732, 'double': 1733, 'hindutva': 1734, 'pakodawala': 1735, 'appointed': 1736, 'gone': 1737, 'timesnow': 1738, 'debate': 1739, 'nearly': 1740, 'interview': 1741, 'beti': 1742, 'seeing': 1743, 'remotely': 1744, 'linked': 1745, 'transparent': 1746, 'questioned': 1747, 'deposit': 1748, 'deposited': 1749, '5th': 1750, 'mar': 1751, 'turmoil': 1752, 'bachao': 1753, 'praised': 1754, 'prakash': 1755, 'manager': 1756, 'contribute': 1757, 'global': 1758, 'brilliant': 1759, 'school': 1760, 'feels': 1761, 'cause': 1762, 'believes': 1763, 'andhra': 1764, 'polluted': 1765, 'electrification': 1766, 'follow': 1767, 'updates': 1768, 'kamal': 1769, 'haasan': 1770, 'stopping': 1771, 'succeed': 1772, 'prachar': 1773, 'hum': 1774, 'kare': 1775, 'bane': 1776, 'exist': 1777, 'simply': 1778, 'wasted': 1779, 'challenges': 1780, 'tour': 1781, 'patel': 1782, 'supporting': 1783, 'dividing': 1784, 'regarding': 1785, 'strife': 1786, 'opportunities': 1787, 'avenues': 1788, 'forest': 1789, 'env': 1790, 'lohia': 1791, 'damage': 1792, 'appalling': 1793, 'interviews': 1794, 'tucker': 1795, 'carlson': 1796, 'worldâ€™': 1797, 'supports': 1798, 'strikes': 1799, 'torture': 1800, 'mukherjee': 1801, 'sri': 1802, 'dis': 1803, 'congis': 1804, 'moral': 1805, 'policing': 1806, 'minus': 1807, 'cows': 1808, 'problems': 1809, 'narratives': 1810, 'disgrace': 1811, 'rapist': 1812, 'larger': 1813, 'expert': 1814, 'foolishly': 1815, 'credible': 1816, 'intellectual': 1817, 'opposing': 1818, 'hit': 1819, 'symbol': 1820, 'nobody': 1821, 'argument': 1822, 'mam': 1823, 'narinder': 1824, 'song': 1825, 'trap': 1826, 'walked': 1827, 'mathai': 1828, 'part': 1829, 'opened': 1830, 'priest': 1831, 'disturbing': 1832, 'praising': 1833, 'charges': 1834, 'gained': 1835, 'shameless': 1836, 'afraid': 1837, 'allegations': 1838, 'mockery': 1839, 'communal': 1840, 'divide': 1841, 'purpose': 1842, 'rival': 1843, 'bias': 1844, 'ability': 1845, 'reservation': 1846, 'â€˜modi': 1847, 'allegedly': 1848, 'oberoi': 1849, 'playing': 1850, 'yourself': 1851, 'creating': 1852, 'foretold': 1853, 'ima': 1854, 'gas': 1855, 'ayushman': 1856, 'praja': 1857, 'pertinent': 1858, 'spiked': 1859, 'income': 1860, 'opinion': 1861, 'madison': 1862, 'square': 1863, 'wembley': 1864, 'horizon': 1865, 'prof': 1866, 'various': 1867, 'saharanpur': 1868, 'fielded': 1869, 'proudly': 1870, 'chop': 1871, 'fare': 1872, 'controls': 1873, 'effectively': 1874, 'pseudos': 1875, 'saw': 1876, 'awesome': 1877, 'bhagwan': 1878, 'goyal': 1879, 'adopted': 1880, 'barsana': 1881, 'willing': 1882, 'haryana': 1883, 'meant': 1884, 'ignoring': 1885, 'colour': 1886, 'regions': 1887, 'raised': 1888, '250': 1889, 'godhra': 1890, 'children': 1891, 'fuel': 1892, 'prosecute': 1893, 'ministry': 1894, 'bhadrak': 1895, 'advantage': 1896, 'goahead': 1897, 'interesting': 1898, 'glimpse': 1899, 'shout': 1900, 'gift': 1901, 'enemy': 1902, 'assets': 1903, 'liar': 1904, 'hav': 1905, 'confident': 1906, 'emotional': 1907, 'serpents': 1908, 'hypocrite': 1909, 'theres': 1910, 'skills': 1911, 'plus': 1912, 'receiving': 1913, 'sometimes': 1914, 'director': 1915, 'journos': 1916, 'karti': 1917, 'innocent': 1918, 'rahulgandhi': 1919, 'announced': 1920, 'guarantee': 1921, 'agency': 1922, 'friend': 1923, 'ratio': 1924, 'mine': 1925, 'waiver': 1926, 'rallies': 1927, 'total': 1928, 'mentioned': 1929, 'narrative': 1930, 'beyond': 1931, 'carries': 1932, 'incidents': 1933, 'huh': 1934, 'israel': 1935, 'lists': 1936, 'moreover': 1937, 'safety': 1938, 'jeise': 1939, 'imandar': 1940, 'milna': 1941, 'moskil': 1942, 'haiji': 1943, 'until': 1944, 'discuss': 1945, 'fulfilled': 1946, 'â€œmain': 1947, 'chowkidarâ€\\x9d': 1948, 'brand': 1949, 'study': 1950, 'tried': 1951, 'regular': 1952, 'manifold': 1953, 'hats': 1954, 'scholar': 1955, 'academic': 1956, 'columnist': 1957, 'thinker': 1958, 'lampoons': 1959, 'evolution': 1960, 'cpm': 1961, 'gowda': 1962, 'courage': 1963, 'dead': 1964, 'escape': 1965, 'emergency': 1966, 'likely': 1967, 'clueless': 1968, 'threatening': 1969, 'karenge': 1970, 'anytime': 1971, 'opinions': 1972, 'amongst': 1973, 'quick': 1974, 'astrologer': 1975, 'patna': 1976, 'dignity': 1977, 'bengaluru': 1978, 'arms': 1979, 'atal': 1980, 'bihari': 1981, 'avinash': 1982, 'narender': 1983, 'shld': 1984, 'international': 1985, 'interact': 1986, 'event': 1987, '31st': 1988, '5pm': 1989, 'special': 1990, 'coal': 1991, 'glory': 1992, 'anybody': 1993, 'wht': 1994, 'window': 1995, 'mamata': 1996, 'consider': 1997, 'generate': 1998, 'rajeev': 1999, 'desperately': 2000, 'leading': 2001, '2008': 2002, 'fund': 2003, 'favor': 2004, 'picture': 2005, 'advertising': 2006, 'intention': 2007, 'struggles': 2008, 'airforce': 2009, 'minorites': 2010, 'hands': 2011, 'strength': 2012, 'doubting': 2013, 'text': 2014, 'positions': 2015, 'greatness': 2016, 'letter': 2017, 'procurement': 2018, 'socialist': 2019, 'arvind': 2020, 'gathbandhan': 2021, 'oppose': 2022, 'train': 2023, 'lusty': 2024, 'cowards': 2025, 'jagan': 2026, 'musugu': 2027, 'unttadu': 2028, '5crs': 2029, 'supposed': 2030, 'innovative': 2031, 'border': 2032, 'ans': 2033, 'regularly': 2034, 'stuff': 2035, 'anyways': 2036, 'pandit': 2037, 'empowering': 2038, 'context': 2039, 'â€˜demonâ€™': 2040, 'â€˜crush': 2041, 'jawsâ€™': 2042, 'reaches': 2043, 'farmer': 2044, 'filled': 2045, 'road': 2046, 'construction': 2047, 'azhar': 2048, 'outside': 2049, 'member': 2050, 'buying': 2051, 'journalist': 2052, 'pocket': 2053, 'increasing': 2054, 'metro': 2055, 'chamchas': 2056, 'bitch': 2057, 'sources': 2058, 'benefits': 2059, 'thus': 2060, 'along': 2061, 'puppet': 2062, 'whose': 2063, 'à¤¾à¤\\x81': 2064, 'à¥ˆà¤‚': 2065, 'à¤¾à¤¾à¥‹à¥€': 2066, 'kalahandi': 2067, 'april': 2068, 'natural': 2069, 'infamous': 2070, 'rules': 2071, 'nitin': 2072, 'hold': 2073, 'commission': 2074, 'threaten': 2075, 'micro': 2076, 'demonitisation': 2077, 'dragged': 2078, 'kedikcrchormodi': 2079, 'avoid': 2080, 'modithemed': 2081, 'cafe': 2082, 'tamil': 2083, 'nadu': 2084, 'uses': 2085, 'motivate': 2086, 'everywhere': 2087, 'leap': 2088, 'offices': 2089, 'outrage': 2090, 'iac': 2091, 'madhav': 2092, 'board': 2093, 'useful': 2094, 'refused': 2095, 'declare': 2096, 'congs': 2097, 'anil': 2098, 'trailer': 2099, 'streets': 2100, 'passed': 2101, 'airport': 2102, 'expectations': 2103, 'fastest': 2104, 'birthday': 2105, 'vaa': 2106, 'spare': 2107, 'amount': 2108, 'society': 2109, 'demolished': 2110, 'guj': 2111, 'fought': 2112, 'cbi': 2113, 'supreme': 2114, 'conducted': 2115, 'indiaâ€™': 2116, 'hoon': 2117, 'sisters': 2118, 'karma': 2119, 'vindictive': 2120, 'hurt': 2121, 'broke': 2122, 'proxy': 2123, 'treacheries': 2124, 'healthy': 2125, 'vennu': 2126, 'connecting': 2127, 'opportunistic': 2128, 'beg': 2129, 'invite': 2130, 'saaf': 2131, 'hun': 2132, 'croc': 2133, 'kabir': 2134, 'sends': 2135, 'woh': 2136, 'departments': 2137, 'surname': 2138, 'advice': 2139, 'respond': 2140, 'understanding': 2141, 'brazenly': 2142, 'demanding': 2143, 'referred': 2144, 'online': 2145, 'petition': 2146, 'parliament': 2147, 'ladakh': 2148, 'sunday': 2149, 'truly': 2150, 'gandhinagar': 2151, 'reclaiming': 2152, 'opportunity': 2153, 'biased': 2154, 'vicious': 2155, 'prop': 2156, 'bye': 2157, 'union': 2158, 'plank': 2159, 'misbehave': 2160, 'criticize': 2161, 'spoiling': 2162, 'advise': 2163, 'janardanor': 2164, 'duffer': 2165, 'relegion': 2166, 'poster': 2167, 'mahagathbandhan': 2168, 'orders': 2169, 'animal': 2170, '130': 2171, 'à¤¤à¤°à¤«': 2172, 'rangeen': 2173, 'duniya': 2174, 'dailyhunt': 2175, 'à¤¾à¤‰à¤¨à¤²à¥‹': 2176, 'plans': 2177, 'answered': 2178, 'dushman': 2179, 'veteran': 2180, 'complaint': 2181, '1189598': 2182, 'blackmailing': 2183, 'stations': 2184, 'nawaz': 2185, 'cbse': 2186, 'enjoyed': 2187, 'sleeping': 2188, 'barking': 2189, 'dogs': 2190, 'â€œminimum': 2191, 'maximum': 2192, 'governanceâ€\\x9d': 2193, 'reforming': 2194, 'relax': 2195, 'confusion': 2196, 'crustal': 2197, 'crass': 2198, 'nonsensical': 2199, 'saga': 2200, 'pair': 2201, 'brexit': 2202, 'combination': 2203, 'weekly': 2204, 'juicy': 2205, 'bears': 2206, 'imho': 2207, 'goods': 2208, 'taxâ€¦the': 2209, 'upper': 2210, 'sort': 2211, 'favourably': 2212, 'constituency2': 2213, 'tuthukudi': 2214, 'prefer': 2215, 'behaved': 2216, 'courageous': 2217, 'likly': 2218, 'benifit': 2219, 'thuthukudi': 2220, 'calm': 2221, 'wheres': 2222, 'leadershipwho': 2223, 'damodardas': 2224, 'brighter': 2225, 'havenâ€™': 2226, 'hooda': 2227, 'form': 2228, 'parliamentary': 2229, 'proceeding': 2230, 'sultanpur': 2231, 'uttar': 2232, 'pawan': 2233, 'kumar': 2234, 'pandey': 2235, 'condidate': 2236, 'district': 2237, 'sonbhadra': 2238, 'thiugh': 2239, 'codes': 2240, 'cracked': 2241, 'foreign': 2242, 'jumpstart': 2243, 'worshipped': 2244, 'sadistic': 2245, 'isits': 2246, 'lunatic': 2247, 'amazedn': 2248, 'frustation': 2249, 'ministerdisgrace': 2250, 'premier': 2251, 'archery': 2252, 'league': 2253, 'globally': 2254, 'executive': 2255, 'executives': 2256, 'roles': 2257, 'enmity': 2258, 'eternal': 2259, 'perfectly': 2260, 'godrej': 2261, 'complimenting': 2262, 'hoping': 2263, 'highly': 2264, 'insensitivearrogant': 2265, 'ploar': 2266, 'costnobody': 2267, 'tickethe': 2268, 'grounddespite': 2269, '3months': 2270, 'upsc': 2271, 'maj': 2272, 'thrashed': 2273, 'faces': 2274, 'politiciansantinationals': 2275, 'urban': 2276, 'naxals': 2277, 'hona': 2278, 'garv': 2279, 'hogiâœœ': 2280, 'turnout': 2281, 'proportional': 2282, 'launched': 2283, 'remarkable': 2284, 'ultimate': 2285, 'achieved': 2286, 'jailed': 2287, 'corruptionfree': 2288, 'welfare': 2289, 'ibc': 2290, 'feo': 2291, 'appoint': 2292, 'judges': 2293, 'forensic': 2294, 'labs': 2295, 'fasttrack': 2296, 'healthcare': 2297, 'invest': 2298, 'deplorable': 2299, 'characters': 2300, 'overpromise': 2301, 'underdelivery': 2302, 'â€“': 2303, 'pithy': 2304, 'summary': 2305, 'à¥œà¥€à¤¾à¥‹à¥ˆ': 2306, 'mistry': 2307, 'condemning': 2308, 'handled': 2309, 'exceptionally': 2310, 'diplomatic': 2311, 'shrewdness': 2312, 'undermine': 2313, 'prone': 2314, 'aspects': 2315, 'entrepreneurs': 2316, 'infra': 2317, 'incubate': 2318, 'anchor': 2319, 'canvas': 2320, 'fit': 2321, 'propoganda': 2322, 'decency': 2323, 'yuva': 2324, 'stands': 2325, 'existance': 2326, 'rafel': 2327, 'scammer': 2328, 'nautanki': 2329, 'baj': 2330, 'â€˜conciergeâ€™': 2331, 'unusual': 2332, 'sight': 2333, 'hearing': 2334, 'confused': 2335, 'sided': 2336, 'similarly': 2337, 'whoâ€™': 2338, 'whereâ€™': 2339, 'deciding': 2340, 'minor': 2341, 'intent': 2342, 'opponents': 2343, 'generally': 2344, 'skill': 2345, '3040': 2346, 'oppo': 2347, 'wonders': 2348, 'pit': 2349, 'storm': 2350, 'kitna': 2351, 'jalte': 2352, 'tum': 2353, 'jealousy': 2354, 'rgis': 2355, 'length': 2356, 'breadth': 2357, 'reception': 2358, 'porn': 2359, 'sites': 2360, 'propagated': 2361, 'propagandas': 2362, 'eyes': 2363, 'critic': 2364, 'exculding': 2365, 'vast': 2366, 'indai': 2367, 'denying': 2368, 'allegation': 2369, 'painful': 2370, 'sorrowful': 2371, 'haunt': 2372, 'abduction': 2373, 'theyâ€™': 2374, 'wel': 2375, 'recorded': 2376, 'treats': 2377, 'sharam': 2378, 'karodesh': 2379, 'ghotale': 2380, 'bech': 2381, 'khaega': 2382, 'tumhara': 2383, 'risen': 2384, 'gulf': 2385, 'petta': 2386, 'antibjp': 2387, 'yesterday': 2388, 'superbly': 2389, 'summarizedjai': 2390, 'mataramagain': 2391, 'beginningmodi': 2392, 'wada': 2393, 'faramoshi': 2394, 'loves': 2395, 'hates': 2396, 'hatedont': 2397, 'pure': 2398, 'prefixes': 2399, 'accurately': 2400, 'capture': 2401, 'frenzy': 2402, 'performed': 2403, 'wouldnt': 2404, 'lootedsonia': 2405, 'send': 2406, 'looters': 2407, 'walay': 2408, '2010': 2409, 'graduate': 2410, 'hucongress': 2411, 'kon': 2412, 'rojgaar': 2413, 'faila': 2414, 'thabhai': 2415, 'takenin': 2416, 'jobsyr': 2417, 'present': 2418, '45yrhigh': 2419, 'whoa': 2420, 'supportive': 2421, 'statement': 2422, 'band': 2423, 'bloodthirsty': 2424, 'talibanized': 2425, 'mindsets': 2426, 'brahminnon': 2427, 'baad': 2428, 'karna': 2429, 'chahiyeour': 2430, 'focuss': 2431, 'antihindu': 2432, 'persecuting': 2433, 'varda': 2434, 'donnot': 2435, 'unrequired': 2436, 'kinda': 2437, 'unexpected': 2438, 'idk': 2439, 'shown': 2440, 'solidarity': 2441, 'dowing': 2442, 'admiral': 2443, 'replacement': 2444, 'agent': 2445, 'adnan': 2446, 'sami': 2447, 'endia': 2448, 'exception': 2449, 'japan': 2450, 'singapore': 2451, 'spend': 2452, 'moneyexp': 2453, 'dwacra': 2454, 'yuvanestam': 2455, 'hurrah': 2456, 'multi': 2457, 'matching': 2458, 'disciplined': 2459, 'fauji': 2460, 'flying': 2461, 'tiranga': 2462, 'planets': 2463, 'kunal': 2464, 'kamra': 2465, 'pretentious': 2466, 'chutiya': 2467, 'braincells': 2468, 'smoking': 2469, 'weed': 2470, 'priminister': 2471, 'whr': 2472, 'fucks': 2473, 'woman': 2474, 'den': 2475, 'physically': 2476, 'mentally': 2477, 'handicap': 2478, 'genetic': 2479, 'depression': 2480, 'achhe': 2481, 'din': 2482, 'post2014': 2483, 'âž¡': 2484, 'propel': 2485, 'deny': 2486, 'swee': 2487, 'finished': 2488, 'magic': 2489, 'ghochu': 2490, 'capacity': 2491, 'exacerbated': 2492, 'excessive': 2493, 'simultaneous': 2494, 'oppositionâ€™': 2495, 'endup': 2496, 'manlike': 2497, 'mussolini': 2498, 'pinochet': 2499, 'nero': 2500, 'stalin': 2501, 'obc': 2502, 'log': 2503, 'rrb': 2504, 'rpf': 2505, 'constable': 2506, 'cut': 2507, 'anusaryr': 2508, 'underdeveloped': 2509, 'spoil': 2510, 'chaudhary': 2511, 'maid': 2512, 'waitress': 2513, 'daruwali': 2514, 'mallikarjun': 2515, 'khargeâ€™': 2516, 'gulbarga': 2517, 'indicators': 2518, 'highprofile': 2519, 'thiruvananthapuram': 2520, 'displays': 2521, 'raajdarbaree': 2522, 'ness': 2523, 'hunainty': 2524, 'mulsim': 2525, 'awaken': 2526, 'tie': 2527, 'convey': 2528, 'saab': 2529, 'politicals': 2530, 'innocents': 2531, 'hunting': 2532, 'objections': 2533, 'topmost': 2534, 'fillful': 2535, 'normals': 2536, 'evks': 2537, 'amma': 2538, 'hotel': 2539, 'scrutinised': 2540, 'receipt': 2541, 'combined': 2542, 'tadipar': 2543, 'task': 2544, 'gali': 2545, 'throw': 2546, 'noway': 2547, 'maya': 2548, 'akhilesh': 2549, 'bjd': 2550, 'â€œcow': 2551, 'â€\\x9d': 2552, 'criminals': 2553, 'bent': 2554, 'priyanka': 2555, 'reel': 2556, 'celebrity': 2557, 'mentality': 2558, 'strange': 2559, 'developmental': 2560, 'doc': 2561, 'convenient': 2562, 'avenue': 2563, 'lynchers': 2564, 'castiest': 2565, 'imagination': 2566, 'hierarchy': 2567, 'drawbacks': 2568, 'mahaghatbandhan': 2569, 'mess': 2570, 'accepted': 2571, 'responding': 2572, 'makng': 2573, 'purchasng': 2574, 'mig21': 2575, 'pulbama': 2576, 'permission': 2577, 'gaurding': 2578, 'lalit': 2579, 'homes': 2580, 'primarily': 2581, 'stoppage': 2582, 'modijaitley': 2583, 'cooks': 2584, 'merger': 2585, 'epf': 2586, 'universal': 2587, 'nationalisation': 2588, 'primary': 2589, 'drinking': 2590, 'water': 2591, 'panindia': 2592, 'solid': 2593, 'prior': 2594, 'cook': 2595, 'lighting': 2596, 'wood': 2597, 'banking': 2598, 'sector18000': 2599, 'jealous': 2600, 'majoritarian': 2601, 'obsession': 2602, 'plural': 2603, 'determine': 2604, 'reminded': 2605, 'utterences': 2606, 'govtâ€™': 2607, 'bear': 2608, 'fruits': 2609, 'agn': 2610, 'warning': 2611, 'gvin': 2612, 'lessons': 2613, 'venture': 2614, 'capitalism': 2615, 'thrives': 2616, 'households': 2617, 'litres': 2618, 'brandy': 2619, 'appreciation': 2620, 'picked': 2621, 'chairman': 2622, 'devious': 2623, 'babyhe': 2624, 'upa2': 2625, 'poised': 2626, 'chairing': 2627, 'committee': 2628, 'formed': 2629, 'shortly': 2630, 'abp': 2631, 'sach': 2632, 'reasonour': 2633, 'sensitive': 2634, 'mouth': 2635, 'grievances': 2636, 'inko': 2637, 'fark': 2638, 'kye': 2639, 'padta': 2640, 'dain': 2641, 'bhukte': 2642, 'hardcore': 2643, 'shared': 2644, 'becuz': 2645, 'proindia': 2646, 'liers': 2647, 'meanings': 2648, 'initiatives': 2649, 'maybe': 2650, 'youngsters': 2651, 'hashtag': 2652, 'random': 2653, 'schemesyojanas': 2654, 'adaniambani': 2655, 'dhruv': 2656, 'tatti': 2657, 'optimism': 2658, 'critical': 2659, 'juncture': 2660, 'pride': 2661, 'resonates': 2662, 'dominated': 2663, 'bjpgulbarga': 2664, 'davangere': 2665, 'shivamogga': 2666, 'chitradurga': 2667, 'ballary': 2668, 'sweep': 2669, 'dominance': 2670, 'lingayat': 2671, 'ghanta': 2672, 'demi': 2673, 'miseries': 2674, 'dieget': 2675, 'rapedshould': 2676, 'actsy': 2677, 'rot': 2678, 'commited': 2679, 'invincbleitâ€™': 2680, 'countrys': 2681, 'fortune': 2682, 'modiitâ€™': 2683, 'wil': 2684, 'brainy': 2685, 'dharmic': 2686, 'someday': 2687, 'shakuni': 2688, 'drswamy': 2689, 'street': 2690, 'fights': 2691, '159': 2692, '111': 2693, '118': 2694, '122': 2695, '133': 2696, 'nincompoop': 2697, 'nazi': 2698, 'politicising': 2699, 'test': 2700, 'maam': 2701, 'nirmala': 2702, 'gross': 2703, 'brazen': 2704, 'cadre': 2705, 'rozi': 2706, 'roti': 2707, 'sawaal': 2708, 'dna': 2709, 'modichalisa': 2710, 'meanwhile': 2711, 'jihad': 2712, 'rajjo': 2713, 'manak': 2714, 'hero': 2715, 'honesty': 2716, 'chormahachor': 2717, 'ofcourse': 2718, 'clause': 2719, 'satisfaction': 2720, 'rat': 2721, 'lion': 2722, 'ward': 2723, 'residing': 2724, 'jordan': 2725, 'shushma': 2726, 'monger': 2727, 'hampered': 2728, 'turned': 2729, 'daring': 2730, 'winner': 2731, 'hated': 2732, 'usual': 2733, 'possibilities': 2734, '1as': 2735, '2no': 2736, 'evidences': 2737, 'togetherso': 2738, 'urs': 2739, 'fascist': 2740, 'continue': 2741, 'nirbhaya': 2742, 'handling': 2743, 'rape': 2744, 'sheila': 2745, 'dixit': 2746, 'faster': 2747, 'silently': 2748, 'heal': 2749, 'wounds': 2750, 'attempted': 2751, 'ruthlessly': 2752, 'snatched': 2753, 'tts': 2754, 'disease': 2755, 'disabilityif': 2756, 'doingdoes': 2757, 'incite': 2758, 'himthere': 2759, 'terribly': 2760, 'biological': 2761, 'breaks': 2762, 'sexually': 2763, 'exploited': 2764, 'metabhi': 2765, 'inspired': 2766, 'hua': 2767, 'jab': 2768, '36gun': 2769, 'milate': 2770, 'tabhi': 2771, 'koi': 2772, 'likhane': 2773, 'banane': 2774, 'chelafilm': 2775, 'path': 2776, 'sliding': 2777, 'renee': 2778, 'zee': 2779, 'antimodi': 2780, 'chennai': 2781, 'jaitely': 2782, 'rafal': 2783, 'alibaba': 2784, 'guide': 2785, 'inturn': 2786, 'chalisa': 2787, 'apke': 2788, 'yar': 2789, 'address': 2790, 'esp': 2791, 'forge': 2792, 'prosperity': 2793, 'haha': 2794, 'gaga': 2795, 'accusing': 2796, 'template': 2797, 'insolvency': 2798, 'bankruptcy': 2799, 'asshole': 2800, 'bahujan': 2801, 'radical': 2802, 'marxist': 2803, 'knowunderstand': 2804, 'fucking': 2805, 'oppressors': 2806, 'dalitbahujanadivasis': 2807, 'reflects': 2808, 'collections': 2809, 'estimated': 2810, 'fell': 2811, 'quarter': 2812, 'ruthless': 2813, 'attitude': 2814, 'â\\x9d¤': 2815, 'mole': 2816, 'molebureaucrats': 2817, 'bjpaap': 2818, 'shorter': 2819, 'spellings': 2820, 'furious': 2821, 'bcs': 2822, 'reap': 2823, 'dividend': 2824, 'bursted': 2825, 'smartness': 2826, 'exptd': 2827, 'retaliate': 2828, 'light': 2829, 'abi': 2830, 'captive': 2831, 'congratulations': 2832, 'madam': 2833, 'margin': 2834, 'vocal': 2835, '370': 2836, 'cji': 2837, 'ban': 2838, 'elecation': 2839, 'lease': 2840, 'queens': 2841, 'victoria': 2842, 'elizabeth': 2843, 'chaiwal': 2844, 'wwi': 2845, 'mahabharat': 2846, 'icing': 2847, 'cake': 2848, 'cleaning': 2849, 'defecation': 2850, 'senseless': 2851, 'forefathers': 2852, 'truely': 2853, 'myth': 2854, 'campaigned': 2855, '5state': 2856, 'suicide': 2857, 'autonomy': 2858, 'institutions': 2859, 'desire': 2860, 'disengaged': 2861, 'uae': 2862, 'sheikh': 2863, 'mohammed': 2864, 'bin': 2865, 'zayed': 2866, 'helm': 2867, 'poaching': 2868, 'fill': 2869, 'lacunae': 2870, 'hybernatingur': 2871, 'frnd': 2872, 'ths': 2873, 'bahar': 2874, 'haath': 2875, 'dalakar': 2876, 'dabochenge': 2877, 'eader': 2878, 'modijia': 2879, 'bimbo': 2880, 'sum': 2881, 'definitey': 2882, 'competition': 2883, 'dumbnes': 2884, 'formidable': 2885, 'messiah': 2886, 'vides': 2887, 'minute': 2888, 'urged': 2889, 'series': 2890, 'nehruji': 2891, 'expired': 2892, 'shastiji': 2893, 'everybody': 2894, 'dispensible': 2895, 'whining': 2896, 'yhat': 2897, 'wear': 2898, 'timechances': 2899, 'honble': 2900, 'lsl': 2901, 'liberalism': 2902, 'digested': 2903, 'cattel': 2904, 'russian': 2905, 'sukhoi': 2906, 'mki': 2907, 'fleet': 2908, 'currently': 2909, 'indigenously': 2910, 'hal': 2911, 'farzi': 2912, 'deshbhakts': 2913, 'defend': 2914, 'pathetic': 2915, 'mileage': 2916, 'object': 2917, 'pakistans': 2918, 'congratulation': 2919, 'scold': 2920, 'hinduism': 2921, 'dress': 2922, 'respected': 2923, 'taught': 2924, 'ardhanaariswara': 2925, 'articulating': 2926, 'alleviate': 2927, 'woes': 2928, 'improving': 2929, 'funding': 2930, 'sidekick': 2931, 'jingoism': 2932, 'mediaval': 2933, 'tank': 2934, 'armchair': 2935, 'politico': 2936, 'runing': 2937, 'prospect': 2938, 'fiasco': 2939, 'kamdaar': 2940, 'abusing': 2941, 'raise': 2942, 'goldmine': 2943, 'biodiversity': 2944, 'marry': 2945, 'hippopotamus': 2946, 'unmarried': 2947, 'unmarrieddivorced': 2948, 'feminists': 2949, 'everyones': 2950, 'marvi': 2951, 'dismantling': 2952, 'uphold': 2953, 'spirit': 2954, 'simplify': 2955, 'implemented': 2956, 'implement': 2957, 'slab': 2958, 'medium': 2959, 'sourace': 2960, 'hustings': 2961, 'akbaruddinâ\\xa0owaisi': 2962, 'darpok': 2963, 'setu': 2964, 'gathering': 2965, 'desk': 2966, 'defy': 2967, 'foreverusa': 2968, 'militarily': 2969, 'scientifically': 2970, 'superior': 2971, '2016': 2972, 'questionthese': 2973, 'clans': 2974, 'apprehension': 2975, 'gut': 2976, 'stemmed': 2977, 'realities': 2978, 'sept': 2979, 'proceedings': 2980, 'hacked': 2981, 'doo': 2982, 'chokdar': 2983, 'machyee': 2984, 'soor': 2985, 'abb': 2986, 'ristdaar': 2987, 'mare': 2988, 'chayee': 2989, 'hee': 2990, 'beta': 2991, 'bada': 2992, 'unke': 2993, 'gujju': 2994, 'maa': 2995, 'tukdo': 2996, 'kharidne': 2997, 'jurrat': 2998, 'kartein': 2999, 'aaj': 3000, 'kal': 3001, 'junta': 3002, 'realises': 3003, 'upto': 3004, 'remains': 3005, 'scientific': 3006, '1015': 3007, 'agar': 3008, 'majburi': 3009, 'mahatma': 3010, 'majbuti': 3011, 'jammu': 3012, 'baramula': 3013, 'fathers': 3014, 'careers': 3015, 'puncture': 3016, 'waise': 3017, 'kaun': 3018, 'aya': 3019, 'maidan': 3020, 'penance': 3021, 'doubted': 3022, 'heavily': 3023, 'wash': 3024, 'sin': 3025, 'announcing': 3026, 'resignation': 3027, 'process': 3028, '201516': 3029, 'insisted': 3030, 'capped': 3031, 'msmes': 3032, 'complicated': 3033, 'rates': 3034, 'modifications': 3035, 'piggybacked': 3036, 'knew': 3037, 'nosediving': 3038, 'regain': 3039, '25lac': 3040, 'kuldip': 3041, 'nayar': 3042, 'titled': 3043, 'icons': 3044, 'jinnah': 3045, 'insistent': 3046, 'cremating': 3047, 'shastri': 3048, 'allahabd': 3049, 'lalita': 3050, 'shstri': 3051, 'onto': 3052, 'ghat': 3053, 'jawan': 3054, 'inscription': 3055, 'â€˜modiâ€™': 3056, 'male': 3057, 'labor': 3058, 'shrinked': 3059, 'date': 3060, 'gawar': 3061, 'jali': 3062, 'bio': 3063, 'lmao': 3064, '20192024': 3065, 'proceeded': 3066, '15k': 3067, 'recover': 3068, 'customers': 3069, 'fraud': 3070, 'pnb': 3071, 'neeha': 3072, 'jus': 3073, 'butchered': 3074, 'ambedkars': 3075, 'timebesides': 3076, 'historyignorance': 3077, 'blissambedkar': 3078, 'constituent': 3079, 'assemblyvia': 3080, 'aided': 3081, 'mondal': 3082, 'anu': 3083, 'motivated': 3084, 'genocider': 3085, 'sanjay': 3086, 'jhaji': 3087, 'admitting': 3088, 'accepting': 3089, 'boss': 3090, 'expressed': 3091, 'heartbut': 3092, 'jara': 3093, 'halka': 3094, 'karo': 3095, 'brahmins': 3096, 'dietyit': 3097, 'females': 3098, 'areso': 3099, 'cooked': 3100, 'chauvinistic': 3101, 'males': 3102, 'prestitute': 3103, 'pork': 3104, 'pigs': 3105, 'renowned': 3106, 'lyricist': 3107, 'clarificationclick': 3108, 'miserable': 3109, 'walo': 3110, 'cunao': 3111, 'mei': 3112, 'pata': 3113, 'lag': 3114, 'jayega': 3115, 'moment': 3116, 'electric': 3117, 'car': 3118, 'manufacturer': 3119, 'confirms': 3120, 'enter': 3121, 'founder': 3122, 'tesla': 3123, 'motors': 3124, 'confirmed': 3125, 'tongue': 3126, 'wagging': 3127, 'owaisisâ€™': 3128, 'bash': 3129, 'loafers': 3130, 'lawyers': 3131, 'wags': 3132, 'tail': 3133, 'expression': 3134, 'restrictions': 3135, 'maintain': 3136, 'decorum': 3137, 'mercy': 3138, 'koppalatota': 3139, 'park': 3140, 'mathikere': 3141, 'saturday': 3142, 'enthusiasm': 3143, 'mic': 3144, 'karan': 3145, 'thaparâ€™': 3146, 'famous': 3147, 'reaffirmed': 3148, 'allegience': 3149, 'endorsing': 3150, 'youtuber': 3151, 'cared': 3152, 'thatacc': 3153, 'democracyhe': 3154, 'folded': 3155, 'sarcasm': 3156, 'vapas': 3157, 'lana': 3158, 'agey': 3159, 'badana': 3160, 'developement': 3161, 'comedy': 3162, 'gandhii': 3163, 'conclusion': 3164, 'competitor': 3165, 'rakhi': 3166, 'sawant': 3167, 'kapil': 3168, 'behaving': 3169, 'wildly': 3170, 'predicts': 3171, 'eternity': 3172, 'nightmares': 3173, 'diamond': 3174, 'studded': 3175, 'throne': 3176, 'awakening': 3177, 'shiela': 3178, 'dikshit': 3179, 'noone': 3180, 'turns': 3181, 'singer': 3182, 'elaborate': 3183, 'rte': 3184, 'hunar': 3185, 'haat': 3186, 'letting': 3187, 'tyagis': 3188, 'ayodhya': 3189, 'delay': 3190, 'bhaai': 3191, 'mote': 3192, 'convincing': 3193, 'opportunist': 3194, 'sha': 3195, 'denial': 3196, 'doldrums': 3197, 'edgy': 3198, 'worsened': 3199, 'embrace': 3200, 'hahahaits': 3201, 'leadershipur': 3202, 'defeatedhow': 3203, 'iit': 3204, 'iti': 3205, 'deserve': 3206, 'alway': 3207, 'nonsense': 3208, 'master': 3209, 'stroke': 3210, 'demo': 3211, 'bajrangi': 3212, 'admit': 3213, 'stabbing': 3214, 'womb': 3215, 'pregnant': 3216, 'broad': 3217, 'daylight': 3218, 'airstrikes': 3219, 'â€˜had': 3220, 'differentâ€™': 3221, 'insulting': 3222, 'heroes': 3223, 'abhinandan': 3224, 'bhaago': 3225, 'chale': 3226, 'racist': 3227, 'murderer': 3228, 'selected': 3229, 'isliye': 3230, 'pledge': 3231, 'pappu': 3232, 'othe': 3233, 'murder': 3234, 'understan': 3235, 'theft': 3236, 'dataexpert': 3237, 'fudginggdp': 3238, 'templates': 3239, 'bonds': 3240, 'reverse': 3241, 'gear': 3242, 'executed': 3243, 'enables': 3244, 'chaiwalanow': 3245, 'hatredrss': 3246, 'shrunk': 3247, 'automation': 3248, 'artificial': 3249, 'decrease': 3250, 'upadhyay': 3251, 'sway': 3252, 'swayed': 3253, 'nationalists': 3254, 'lied': 3255, 'ego': 3256, 'failures': 3257, 'kay': 3258, 'bola': 3259, 'modimodimodi': 3260, 'market': 3261, 'iteam': 3262, 'shatrughan': 3263, 'sinha': 3264, 'siddiqui': 3265, 'preparing': 3266, 'include': 3267, 'relief': 3268, 'toll': 3269, 'taxation': 3270, 'salman': 3271, 'jokehe': 3272, 'usmuslims': 3273, 'enjoys': 3274, 'tacit': 3275, 'overwhelming': 3276, 'antimuslim': 3277, 'occurred': 3278, 'attackers': 3279, 'acquittedbrutality': 3280, 'aginst': 3281, 'families': 3282, 'subbu': 3283, 'jamadaar': 3284, 'sack': 3285, 'crazy': 3286, 'remarkson': 3287, 'effortsdid': 3288, 'yourfamily': 3289, 'youif': 3290, 'bettersuggested': 3291, 'fathergood': 3292, 'hihihi': 3293, 'balancing': 3294, 'inherently': 3295, 'identifies': 3296, 'falsehood': 3297, 'religions': 3298, 'members': 3299, 'tolerance': 3300, 'boasting': 3301, 'cash': 3302, 'â‚¹50000': 3303, 'sbi': 3304, 'mahim': 3305, 'butch': 3306, 'honoured': 3307, 'format': 3308, 'applied': 3309, 'beech': 3310, 'ppf': 3311, 'verify': 3312, 'flee': 3313, 'karnatakas': 3314, 'flourished': 3315, 'moving': 3316, 'cautiously': 3317, 'proportion': 3318, 'topple': 3319, 'inexperienced': 3320, 'damaging': 3321, 'ruling': 3322, 'lessmodi': 3323, 'arrest': 3324, 'deram': 3325, 'politceants': 3326, 'congresssp': 3327, 'aapjds': 3328, 'agend': 3329, 'dgp': 3330, 'mishra': 3331, 'cuttack': 3332, 'stressed': 3333, 'parivartana': 3334, 'troubled': 3335, 'demonotization': 3336, 'jitna': 3337, 'bacha': 3338, 'tha': 3339, 'jama': 3340, 'kara': 3341, 'diye': 3342, 'eligible': 3343, 'pakoda': 3344, 'definitly': 3345, 'distressed': 3346, 'punishment': 3347, 'triple': 3348, 'chamcha': 3349, 'discontent': 3350, 'fanned': 3351, 'impetus': 3352, 'populist': 3353, 'essay': 3354, 'economics': 3355, 'injustice': 3356, 'aggressive': 3357, 'returns': 3358, 'quotdemonquot': 3359, 'gaddar': 3360, 'netas': 3361, 'hahathis': 3362, 'salmasabrina': 3363, 'flavor': 3364, 'twistsociopath': 3365, 'salma': 3366, 'ignoresrobs': 3367, 'sabrina': 3368, 'vadri': 3369, 'quotes': 3370, 'maos': 3371, 'red': 3372, 'quotations': 3373, '4000': 3374, 'developed': 3375, 'cheap': 3376, 'airstrike': 3377, '2611': 3378, 'thousands': 3379, '6th': 3380, 'entrusted': 3381, 'coalition': 3382, 'mans': 3383, 'guard': 3384, 'polices': 3385, 'burkah': 3386, 'kargil': 3387, 'sattlite': 3388, 'phone': 3389, 'otherside': 3390, 'typical': 3391, 'liason': 3392, 'mutual': 3393, 'amounts': 3394, 'criticizes': 3395, 'haven': 3396, 'demonotisation': 3397, 'mtlb': 3398, 'chunav': 3399, 'pese': 3400, 'aese': 3401, 'yrrr': 3402, 'govfailed': 3403, 'united': 3404, 'internal': 3405, 'external': 3406, 'governorani': 3407, 'amt': 3408, 'circulation': 3409, 'howmuch': 3410, '5001000': 3411, 'notes': 3412, 'rbihow': 3413, 'detectedbenifit': 3414, 'telugu': 3415, 'ride': 3416, 'immediately': 3417, 'twittering': 3418, 'english': 3419, 'âš¡âš¡': 3420, 'drawn': 3421, 'iterinary': 3422, 'sardar': 3423, 'statue': 3424, 'chatrapati': 3425, 'shivaji': 3426, 'museum': 3427, 'pune': 3428, 'namak': 3429, 'harami': 3430, 'shouts': 3431, 'raises': 3432, 'fundings': 3433, 'conscience': 3434, 'young': 3435, 'dynamic': 3436, 'desert': 3437, 'dilute': 3438, 'ramshackle': 3439, 'tulsi': 3440, 'gabbard': 3441, 'rejected': 3442, 'tyt': 3443, 'chats': 3444, 'prominent': 3445, 'propagandists': 3446, 'drone': 3447, 'assad': 3448, 'genocidal': 3449, 'monsters': 3450, 'sheâ€™': 3451, 'leftist': 3452, 'stature': 3453, 'tall': 3454, 'pile': 3455, '336': 3456, 'maitreesh': 3457, 'ghatak': 3458, 'udayan': 3459, 'producers': 3460, 'desperate': 3461, 'taimurs': 3462, 'thursday': 3463, 'kanagadurga': 3464, 'nizampeteaten': 3465, 'govtcheater': 3466, '4got': 3467, 'whenever': 3468, 'stale': 3469, 'stance': 3470, 'petrified': 3471, 'saddle': 3472, 'temperature': 3473, 'heatwave': 3474, 'degrees': 3475, 'asias': 3476, 'bestperforming': 3477, 'pidis': 3478, 'k0ran': 3479, 'godâ€™': 3480, 'revelation': 3481, 'lord': 3482, 'arabic': 3483, 'hol': 3484, 'terr0rism': 3485, 'whichever': 3486, 'prefers': 3487, 'contestor': 3488, 'smritiji': 3489, 'wayanad': 3490, 'elsewhere': 3491, 'vigilantism': 3492, 'arrival': 3493, 'lesson': 3494, 'crisscross': 3495, 'raos': 3496, 'vajpayees': 3497, 'forgiveness': 3498, 'terrible': 3499, 'irresponsibility': 3500, 'immaturity': 3501, 'abdication': 3502, 'forgive': 3503, 'killer': 3504, 'punished': 3505, 'implication': 3506, 'forgiving': 3507, 'doesnot': 3508, 'setting': 3509, 'thrown': 3510, 'circuits': 3511, 'flustered': 3512, 'note': 3513, 'gurugram': 3514, 'shabana': 3515, 'azami': 3516, 'criticizing': 3517, 'tseries': 3518, 'contract': 3519, 'shamefull': 3520, 'gutter': 3521, 'cudnt': 3522, 'edwina': 3523, 'yoga': 3524, 'modinow': 3525, 'pervertness': 3526, 'poisoned': 3527, 'logical': 3528, 'knee': 3529, 'jerk': 3530, 'moves': 3531, 'drastic': 3532, 'parliment': 3533, 'pleas': 3534, 'ammendments': 3535, 'ratification': 3536, 'courts': 3537, 'addressed': 3538, 'parcel': 3539, 'matters': 3540, 'objecftives': 3541, 'requiring': 3542, 'trivial': 3543, 'statndards': 3544, 'declining': 3545, 'substandard': 3546, 'prosecuted': 3547, 'hurdle': 3548, 'settled': 3549, 'prosecution': 3550, 'kitty': 3551, 'windfall': 3552, 'crooks': 3553, 'safeguard': 3554, 'wealth': 3555, 'favorite': 3556, 'retweeting': 3557, 'happening': 3558, 'moved': 3559, 'extreme': 3560, 'antinarional': 3561, 'whatsapp': 3562, 'televisions': 3563, 'suli': 3564, 'bele': 3565, 'area': 3566, 'loving': 3567, 'noora': 3568, 'ali': 3569, 'à¥\\x8dà¥‹à¤‚': 3570, 'à¥ˆ': 3571, 'calculation': 3572, 'calsi': 3573, 'chek': 3574, 'kariye': 3575, 'reconsider': 3576, 'assam': 3577, 'preview': 3578, 'cab16': 3579, 'practice': 3580, 'sati': 3581, 'johar': 3582, 'prominence': 3583, 'mughal': 3584, 'invasions': 3585, 'ignore': 3586, 'porki': 3587, 'brutal': 3588, 'rapes': 3589, 'conversion': 3590, 'polygamy': 3591, 'fgm': 3592, 'burqa': 3593, 'marrying': 3594, 'hanging': 3595, 'fruit': 3596, 'brownie': 3597, 'effort': 3598, 'dalitstan': 3599, 'massively': 3600, 'systempoliticians': 3601, 'popularity': 3602, 'knowif': 3603, '5yrshis': 3604, 'initiated': 3605, 'thentheir': 3606, 'vanish': 3607, 'clouds': 3608, 'resorted': 3609, 'unhealthy': 3610, 'criticisms': 3611, 'allied': 3612, 'arch': 3613, 'heat': 3614, 'yesjaitleys': 3615, 'evaluation': 3616, 'suffers': 3617, 'dunningkrugereffectthat': 3618, 'illusory': 3619, 'superiority': 3620, 'inability': 3621, 'lowability': 3622, 'recognise': 3623, 'hrs': 3624, 'workingchestthumping': 3625, 'savarna': 3626, 'scst': 3627, 'nautankibaaz': 3628, 'banaoge': 3629, 'toh': 3630, 'karega': 3631, 'chalega': 3632, 'listâ€™': 3633, 'bull': 3634, 'shitting': 3635, 'feku': 3636, 'movies': 3637, 'manu': 3638, 'vadi': 3639, 'indirectly': 3640, 'horrible': 3641, 'unimaginable': 3642, 'nightmare': 3643, 'crippled': 3644, 'schopenhauer': 3645, 'renaissance': 3646, 'momentous': 3647, 'europe': 3648, 'revival': 3649, 'greek': 3650, 'latin': 3651, 'ages': 3652, 'strict': 3653, 'regulation': 3654, 'mci': 3655, 'posters': 3656, 'hint': 3657, 'regulatory': 3658, 'nmc': 3659, 'bastion': 3660, 'â€˜netajiâ€™': 3661, '10000': 3662, 'anudeshok': 3663, 'satisfiedits': 3664, 'garib': 3665, 'connection': 3666, 'pls': 3667, 'phrase': 3668, 'hindi': 3669, 'jaisi': 3670, 'waisa': 3671, 'raja': 3672, 'porkistan': 3673, 'similarity': 3674, 'affliction': 3675, 'apna': 3676, 'sahi': 3677, 'raha': 3678, 'rattled': 3679, 'entities': 3680, 'devils': 3681, 'advocate': 3682, 'suspectbelievehypothesize': 3683, 'highlight': 3684, 'uniquely': 3685, 'survival': 3686, '510': 3687, 'develop': 3688, 'misstep': 3689, 'exharvard': 3690, 'berth': 3691, 'endammo': 3692, 'dodged': 3693, 'bulletloose': 3694, 'cannon': 3695, 'ball': 3696, 'mobs': 3697, 'murderers': 3698, 'rapists': 3699, 'slaughtered': 3700, 'fetuses': 3701, 'bajrang': 3702, 'dal': 3703, 'vhp': 3704, 'sena': 3705, 'unknown': 3706, 'routine': 3707, 'theyve': 3708, 'sanghistan': 3709, 'secularism': 3710, 'communalism': 3711, 'pluralism': 3712, 'homogenization': 3713, 'inclusion': 3714, 'exclusion': 3715, 'monologue': 3716, '2011': 3717, 'consensus': 3718, 'bragged': 3719, 'swearing': 3720, 'lagged': 3721, 'neta': 3722, 'strategycastescreedsregions': 3723, 'kith': 3724, 'mention': 3725, 'hike': 3726, 'filling': 3727, 'coffers': 3728, 'bloated': 3729, 'gotten': 3730, 'gains': 3731, 'vociferous': 3732, 'protestations': 3733, 'gon': 3734, 'sawed': 3735, 'paisa': 3736, 'vasool': 3737, 'petrolseidel': 3738, 'efficiently': 3739, 'chela': 3740, 'diluted': 3741, 'tipping': 3742, 'content': 3743, 'produced': 3744, 'factories': 3745, 'dangerouspeople': 3746, 'youcongress': 3747, 'mediaplease': 3748, 'jain': 3749, 'advisor': 3750, 'cmin': 3751, 'posted': 3752, 'surjewala': 3753, 'bum': 3754, 'pals': 3755, 'bribed': 3756, 'loots': 3757, 'kept': 3758, 'interacts': 3759, 'mann': 3760, 'sushma': 3761, 'swaraj': 3762, 'humble': 3763, 'approachable': 3764, 'destabilising': 3765, 'breaking': 3766, 'creed': 3767, 'shining': 3768, 'answering': 3769, 'claims': 3770, '350': 3771, 'killings': 3772, 'doubts': 3773, 'hiding': 3774, 'pseudonationalism': 3775, 'credibility': 3776, 'crises': 3777, 'absolved': 3778, 'happend': 3779, 'cos': 3780, 'locking': 3781, 'jihadi': 3782, 'reservations': 3783, 'sanctions': 3784, 'finance': 3785, 'absence': 3786, 'bhandaripokhari': 3787, 'loosing': 3788, 'imported': 3789, 'unable': 3790, 'representative': 3791, 'der': 3792, 'chutia': 3793, 'hindusbhajpaisanghi': 3794, 'instalments': 3795, 'forthcoming': 3796, 'sectors': 3797, 'detail': 3798, 'tak': 3799, 'kiya': 3800, 'bagga': 3801, 'yeddyurappa': 3802, 'diary': 3803, 'shekhar': 3804, 'fence': 3805, 'inside': 3806, 'smile': 3807, 'beautiful': 3808, 'teresa': 3809, 'dispose': 3810, '700': 3811, 'pathological': 3812, 'casualty': 3813, 'upon': 3814, 'requesting': 3815, 'hamein': 3816, 'hataavo': 3817, 'fangs': 3818, 'pulled': 3819, 'thakrey': 3820, 'notched': 3821, 'enabled': 3822, 'firsts': 3823, 'strategies': 3824, 'adore': 3825, 'convening': 3826, 'processvision': 3827, 'bullet': 3828, 'toes': 3829, 'whom': 3830, 'brewer': 3831, 'sidelined': 3832, 'planning': 3833, 'tshirtâ˜ºï¸\\x8f': 3834, 'countryâ€™': 3835, 'key': 3836, 'successfulmodi': 3837, 'succeeded': 3838, 'remote': 3839, 'areashuge': 3840, 'cell': 3841, 'portrayswhy': 3842, 'grade': 3843, 'hiranibhansali': 3844, 'frauds': 3845, 'chidabharam': 3846, 'barkha': 3847, 'electionâ\\xa02019': 3848, 'expec': 3849, 'cars': 3850, 'announces': 3851, 'rs500': 3852, 'acres': 3853, 'allianceany': 3854, 'seven': 3855, 'seatsdelhiites': 3856, 'wiser': 3857, 'agentsaffron': 3858, 'adjacent': 3859, 'virulent': 3860, 'box': 3861, 'remarks': 3862, 'pitroda': 3863, 'heads': 3864, 'overseas': 3865, 'department': 3866, 'close': 3867, '3no': 3868, '4solid': 3869, 'changing': 3870, 'internalexternal': 3871, '910': 3872, 'debt': 3873, 'institutes': 3874, 'faking': 3875, 'industrial': 3876, 'hot': 3877, 'bjprss': 3878, 'tool': 3879, 'ideological': 3880, 'indoctrination': 3881, 'diktat': 3882, 'students': 3883, 'topics': 3884, 'emperor': 3885, 'likewise': 3886, 'yours': 3887, 'epic': 3888, 'misadventures': 3889, 'contrast': 3890, 'rides': 3891, 'chartered': 3892, 'gautam': 3893, 'auspices': 3894, 'ecofindia': 3895, 'momota': 3896, 'begum': 3897, 'shithole': 3898, 'hog': 3899, 'limelight': 3900, 'culprits': 3901, 'repeat': 3902, 'wide': 3903, 'outthey': 3904, 'khauff': 3905, 'sentence': 3906, 'succeeding': 3907, 'momentum': 3908, 'convoluted': 3909, 'squandering': 3910, 'chaddi': 3911, 'dhari': 3912, 'anna': 3913, 'placeindians': 3914, 'paying': 3915, 'mistakemodi': 3916, 'collecting': 3917, 'stats': 3918, 'related': 3919, 'violent': 3920, 'award': 3921, 'wapsi': 3922, 'intolerance': 3923, 'movements': 3924, 'certain': 3925, 'sections': 3926, 'peddle': 3927, 'subjugated': 3928, 'quest': 3929, 'merely': 3930, 'renamed': 3931, 'teaser': 3932, 'accha': 3933, 'yeh': 3934, 'nahin': 3935, 'impossible': 3936, 'acknowledged': 3937, 'father': 3938, 'banker': 3939, 'salary': 3940, 'minded': 3941, 'mallya': 3942, 'needy': 3943, 'position': 3944, 'bribe': 3945, 'resulting': 3946, 'bloodshed': 3947, 'prevent': 3948, 'anarchy': 3949, 'slow': 3950, 'incessant': 3951, 'hammering': 3952, 'oped': 3953, 'unjustified': 3954, 'thread': 3955, 'toward': 3956, 'chaiwalla': 3957, 'seller': 3958, 'pretty': 3959, 'trajectory': 3960, 'quoted': 3961, 'prevention': 3962, 'bussy': 3963, 'nutshell': 3964, 'trueyouth': 3965, 'goodmodi': 3966, 'governmentregional': 3967, 'nowhe': 3968, 'accusations': 3969, 'pipeline': 3970, 'discussing': 3971, 'hema': 3972, 'malinis': 3973, 'banke': 3974, 'biahri': 3975, 'gimmick': 3976, 'tbfree': 3977, '2025': 3978, 'heartening': 3979, 'involving': 3980, 'stakeholders': 3981, 'outcomes': 3982, 'reveals': 3983, 'engaged': 3984, 'sachin': 3985, 'tendulkar': 3986, 'amitabh': 3987, 'bachchan': 3988, 'visiblity': 3989, 'vena': 3990, 'wondered': 3991, 'harbhajan': 3992, 'saloon': 3993, 'chandigarh': 3994, 'haircut': 3995, 'à¤¨à¤šà¤†': 3996, 'engage': 3997, 'conversation': 3998, 'landed': 3999, 'misfortune': 4000, 'conclusions': 4001, 'minimal': 4002, 'effect': 4003, 'con': 4004, 'sons': 4005, 'schools': 4006, 'convent': 4007, 'selfrespect': 4008, 'internationally': 4009, 'syria': 4010, 'libiya': 4011, 'turkey': 4012, 'selfextinction': 4013, 'forth': 4014, 'commented': 4015, 'wordly': 4016, 'blamed': 4017, 'condoles': 4018, 'bus': 4019, 'maharashtra': 4020, 'shirt': 4021, 'sincerely': 4022, 'invoking': 4023, 'vigilant': 4024, 'shirtmerchandise': 4025, 'donned': 4026, 'industrialists': 4027, 'duration': 4028, 'vary': 4029, 'depending': 4030, 'liberal': 4031, 'bhakth': 4032, 'â€˜chowkidarâ€™': 4033, 'peddling': 4034, 'keychains': 4035, 'himâ€™': 4036, 'goi': 4037, 'ingrates': 4038, 'shivaling': 4039, 'jaws': 4040, 'modimodi': 4041, 'slogans': 4042, 'seniors': 4043, 'icu': 4044, 'ventilator': 4045, 'chickens': 4046, 'roost': 4047, 'pakistanis': 4048, 'shooting': 4049, 'foot': 4050, '1965': 4051, '1971': 4052, '1999': 4053, 'hows': 4054, 'jaish': 4055, 'airports': 4056, 'qila': 4057, 'dollars': 4058, 'contractrafael': 4059, 'visited': 4060, 'contracts': 4061, 'traumatic': 4062, 'injury': 4063, 'treatment': 4064, 'successful': 4065, 'decided': 4066, 'shoot': 4067, 'wound': 4068, 'jaativaad': 4069, 'iss': 4070, 'sarkaar': 4071, 'crowd': 4072, 'eat': 4073, 'collect': 4074, 'badme': 4075, 'chap': 4076, 'hasnâ€™': 4077, 'yojana': 4078, 'gates': 4079, 'congratulate': 4080, 'disrupting': 4081, 'choksi': 4082, 'richer': 4083, 'poorer': 4084, 'equitably': 4085, 'dropped': 4086, 'territory': 4087, 'bhagwa': 4088, 'traitors': 4089, 'straight': 4090, 'sawmy': 4091, 'jaitley': 4092, 'deliberately': 4093, 'drama': 4094, 'catch': 4095, 'fugitive': 4096, 'humbly': 4097, 'requested': 4098, 'awarded': 4099, 'slums': 4100, 'dwelling': 4101, 'strata': 4102, 'maleficent': 4103, 'alliancethe': 4104, 'downfall': 4105, 'ethics': 4106, 'polity': 4107, 'parlekar': 4108, 'sitaraman': 4109, 'jinin': 4110, 'vice': 4111, 'versa': 4112, 'military': 4113, 'neerav': 4114, 'deeply': 4115, 'impressed': 4116, 'learner': 4117, 'pranab': 4118, 'rural': 4119, 'motta': 4120, 'bless': 4121, 'follower': 4122, 'reacting': 4123, 'frequently': 4124, 'throughout': 4125, 'western': 4126, 'deta': 4127, 'mechokidar': 4128, 'joine': 4129, 'kre': 4130, 'thounds': 4131, '201o': 4132, 'kaam': 4133, 'liya': 4134, 'hota': 4135, '4300': 4136, 'rti': 4137, 'scale': 4138, 'comand': 4139, 'mynt': 4140, 'sick': 4141, 'roiteer': 4142, 'derogatory': 4143, 'eashwar': 4144, 'aapko': 4145, 'saddbuddhi': 4146, 'parent': 4147, 'taxfree': 4148, 'zone': 4149, 'externalities': 4150, 'lifetime': 4151, 'attain': 4152, 'commensurate': 4153, 'potential': 4154, 'thugbandhan': 4155, 'character': 4156, 'fellows': 4157, 'contribution': 4158, 'naxalite': 4159, 'throws': 4160, 'governors': 4161, 'deski': 4162, 'dusmon': 4163, 'godse': 4164, 'wanna': 4165, 'pay': 4166, 'youngest': 4167, 'pellet': 4168, 'gun': 4169, 'victum': 4170, 'hiba': 4171, 'jan': 4172, 'iok': 4173, 'rssbhajrangdal': 4174, 'controlled': 4175, 'lynched': 4176, 'cowbhagts': 4177, 'mosques': 4178, 'beard': 4179, 'bussiness': 4180, 'whoever': 4181, 'rdx': 4182, 'yearly': 4183, 'allocated': 4184, 'mlas': 4185, 'leadreship': 4186, 'rely': 4187, 'seemed': 4188, 'uneducated': 4189, 'mently': 4190, 'product': 4191, 'extensive': 4192, 'funded': 4193, 'overall': 4194, 'recognize': 4195, 'hilarious': 4196, 'jets': 4197, 'teeth': 4198, 'toothless': 4199, 'mature': 4200, 'companies': 4201, 'appreciate': 4202, 'capability': 4203, 'forgotten': 4204, 'shanawaj': 4205, 'khanplease': 4206, 'ignored': 4207, 'shoulders': 4208, 'green': 4209, 'underwear': 4210, 'ive': 4211, 'promoted': 4212, 'spineless': 4213, 'leaderships': 4214, 'stated': 4215, 'impotent': 4216, 'ascending': 4217, 'libbie': 4218, 'topis': 4219, 'tyrant': 4220, 'assumptions': 4221, 'xtians': 4222, 'perpetrators': 4223, 'ends': 4224, 'fcuked': 4225, 'mmrca': 4226, 'socialism': 4227, 'pvnr': 4228, 'freed': 4229, 'yardstick': 4230, 'thug': 4231, 'divided': 4232, 'unite': 4233, 'tone': 4234, 'karke': 4235, 'majak': 4236, 'bana': 4237, 'rahe': 4238, 'remembered': 4239, 'darth': 4240, 'thik': 4241, 'itna': 4242, 'giro': 4243, 'smriti': 4244, 'hahaha': 4245, 'trollers': 4246, 'lots': 4247, 'sreedharanan': 4248, 'pilla': 4249, '1960s': 4250, 'bahadur': 4251, 'shatri': 4252, 'resigned': 4253, 'mistake': 4254, 'vajpaye': 4255, 'ciz': 4256, 'sane': 4257, 'bold': 4258, 'annapurna': 4259, 'yadavas': 4260, 'conspire': 4261, 'cruel': 4262, 'cruelty': 4263, 'mataram': 4264, 'behatar': 4265, 'trskedikcr': 4266, 'ap5crsncbn': 4267, 'ycp': 4268, 'jsp': 4269, 'cheste': 4270, 'chesete': 4271, 'chormodi': 4272, 'ycpjsp': 4273, 'krishnagodavarione': 4274, 'reports': 4275, 'seventeen': 4276, 'completes': 4277, 'bachelorâ€™': 4278, 'masterâ€™': 4279, 'learnt': 4280, 'argues': 4281, 'susu': 4282, 'eternally': 4283, 'grateful': 4284, 'pseudo': 4285, 'enters': 4286, 'irrelevant': 4287, 'inconsequential': 4288, 'upgraded': 4289, '200708': 4290, 'secure': 4291, 'successes': 4292, '900': 4293, 'asia': 4294, 'region': 4295, 'electrified': 4296, 'mahinda': 4297, 'rajapakshe': 4298, 'rare': 4299, 'gems': 4300, 'transcending': 4301, 'enrich': 4302, 'couldntchose': 4303, '126360': 4304, 'bangladesh': 4305, 'joker': 4306, 'lacks': 4307, 'boldness': 4308, 'hours': 4309, 'correction': 4310, 'disgraced': 4311, 'vanaras': 4312, 'suit': 4313, 'gifts': 4314, 'donated': 4315, 'mouni': 4316, 'stole': 4317, '1984': 4318, '1990': 4319, 'hang': 4320, 'apologize': 4321, 'chokidr': 4322, 'kutte': 4323, 'moat': 4324, 'maro': 4325, 'products': 4326, 'sarkrthis': 4327, 'measures': 4328, 'aimed': 4329, 'farmersfind': 4330, 'cold': 4331, 'shouldering': 4332, 'odd': 4333, 'satisfy': 4334, 'sides': 4335, 'coin': 4336, 'storyteller': 4337, 'broken': 4338, 'barrier': 4339, 'ruler': 4340, 'inflated': 4341, 'excise': 4342, 'crude': 4343, 'slump': 4344, 'lock': 4345, '136': 4346, 'distress': 4347, 'aftr': 4348, 'irctc': 4349, 'websitesame': 4350, 'error': 4351, 'msg': 4352, 'displaydy': 4353, 'wherein': 4354, 'mnge': 4355, 'booking': 4356, 'unanswered': 4357, 'named': 4358, 'enlightenment': 4359, 'invented': 4360, 'coalfired': 4361, 'plant': 4362, 'hafeez': 4363, 'dawood': 4364, 'jijjaaaa': 4365, 'amethi': 4366, 'wayand': 4367, 'attractive': 4368, 'destination': 4369, 'ironic': 4370, 'exhibit': 4371, 'mediocrity': 4372, 'talent': 4373, 'politicsâ€\\x9d': 4374, 'production': 4375, 'dependent': 4376, 'indisputable': 4377, 'challengescondemnsabuses': 4378, 'bound': 4379, 'pseudosecular': 4380, 'brigade': 4381, 'lutyen': 4382, 'glorify': 4383, 'individuals': 4384, 'ontario': 4385, 'predicting': 4386, 'fantasies': 4387, 'rotfl': 4388, 'anymore': 4389, 'apart': 4390, 'backward': 4391, 'cowcommunal': 4392, 'disgusting': 4393, 'agian': 4394, 'faced': 4395, 'directed': 4396, 'herself': 4397, 'followed': 4398, 'lib': 4399, 'saint': 4400, 'currupt': 4401, 'boosted': 4402, 'leach': 4403, 'pollution': 4404, 'congestion': 4405, 'min': 4406, 'adamant': 4407, 'opposed': 4408, 'costed': 4409, 'commuters': 4410, 'babri': 4411, 'paranoud': 4412, 'upsetting': 4413, 'applecart': 4414, 'unconditional': 4415, 'raw': 4416, 'khanchris': 4417, 'preffers': 4418, 'merit': 4419, 'willpapu': 4420, 'desprate': 4421, 'targeting': 4422, 'suitsdont': 4423, 'chacha': 4424, 'coats': 4425, 'dry': 4426, 'cleaned': 4427, 'topic': 4428, 'lowest': 4429, 'cuts': 4430, 'perception': 4431, 'â€œforeign': 4432, 'investmentâ€\\x9d': 4433, 'â€œselling': 4434, 'foreignersâ€\\x9d': 4435, 'baba': 4436, 'ramdev': 4437, 'foolish': 4438, 'clap': 4439, 'middlemen': 4440, 'disbursal': 4441, 'beneficiary': 4442, 'solved': 4443, 'transfering': 4444, 'beneficiaries': 4445, 'reaching': 4446, 'poorest': 4447, 'immune': 4448, 'lower': 4449, 'stall': 4450, 'therefore': 4451, 'version': 4452, 'pmln': 4453, 'similarities': 4454, 'striking': 4455, 'brings': 4456, 'ilks': 4457, 'understandable': 4458, 'closing': 4459, 'uneven': 4460, 'pace': 4461, 'consuming': 4462, 'realised': 4463, 'bhajpa': 4464, 'curse': 4465, 'dolts': 4466, 'remarkably': 4467, 'srinivasaraghavan': 4468, 'bargarh': 4469, 'jeypore': 4470, '29th': 4471, 'arbitrary': 4472, 'discretion': 4473, 'spectrum': 4474, 'pitting': 4475, 'pdp': 4476, 'faltu': 4477, 'lalkaro': 4478, 'maatthere': 4479, 'pan': 4480, 'nagpur': 4481, 'files': 4482, 'bogus': 4483, 'bury': 4484, 'exposing': 4485, 'teach': 4486, 'corevoting': 4487, 'creative': 4488, 'tricks': 4489, 'dubai': 4490, 'à¥\\x8dà¥¤': 4491, 'à¥‹à¥€': 4492, 'à¥‡à¥¤': 4493, 'incredibly': 4494, 'inspirational': 4495, 'reminder': 4496, 'struggle': 4497, 'meltdown': 4498, 'rejoice': 4499, 'relect': 4500, 'betterment': 4501, 'wiped': 4502, 'industries': 4503, 'enterprise': 4504, 'industry': 4505, 'indiaabusing': 4506, 'mister': 4507, 'formbut': 4508, 'spite': 4509, 'phir': 4510, 'reich': 4511, 'psychopath': 4512, 'tdpncbn': 4513, 'jagankcr': 4514, 'jsppawan': 4515, 'crs': 4516, 'krishnagodavari': 4517, '5crsap': 4518, '4yrs': 4519, 'cameout': 4520, 'slap': 4521, 'strip': 4522, 'nude': 4523, 'electorial': 4524, 'ls2019': 4525, 'entertaining': 4526, 'sirlooking': 4527, 'apki': 4528, 'vat': 4529, 'adjective': 4530, 'presstitute': 4531, 'couple': 4532, 'majoritarianism': 4533, 'justify': 4534, 'pursuing': 4535, 'cockroaches': 4536, 'makws': 4537, 'corner': 4538, 'abroad': 4539, 'solutions': 4540, 'halfanhour': 4541, 'urges': 4542, 'celebs': 4543, 'click': 4544, 'substantiate': 4545, 'sensed': 4546, 'buzz': 4547, 'hopeexcitement': 4548, 'electing': 4549, 'wll': 4550, 'expectation': 4551, 'bounced': 4552, 'unabashedly': 4553, 'hubristic': 4554, 'frankly': 4555, 'humility': 4556, 'teamwork': 4557, 'compassion': 4558, 'due2corruption': 4559, 'wiselywe': 4560, 'chose': 4561, 'lifeschool': 4562, 'collegecareer': 4563, 'doctors': 4564, 'need2choose': 4565, 'mafias': 4566, 'hobnobs': 4567, 'miya': 4568, 'tathagata': 4569, 'roy': 4570, 'genocide': 4571, 'rohingyas': 4572, 'boycott': 4573, 'kashmiri': 4574, 'anandiben': 4575, 'sahab': 4576, 'khyal': 4577, 'rakhnaâ€™': 4578, 'goverbor': 4579, 'extension': 4580, 'shakhas': 4581, 'proofs': 4582, 'margins': 4583, 'mumbaiwho': 4584, 'dogbe': 4585, 'credited': 4586, 'reporting': 4587, 'selective': 4588, 'jees': 4589, 'zombies': 4590, 'shouldve': 4591, 'theyre': 4592, 'raita': 4593, 'daft': 4594, 'donkeyâ€™': 4595, 'dick': 4596, 'movt': 4597, 'vivekananda': 4598, 'fdn': 4599, 'doval': 4600, 'haramdev': 4601, 'kiran': 4602, 'hazare': 4603, 'reagions': 4604, 'elacting': 4605, 'cancel': 4606, 'winer': 4607, 'instate': 4608, 'rajsh': 4609, 'tejwani': 4610, 'everyday': 4611, 'abducted': 4612, 'converted': 4613, 'separate': 4614, 'coverage': 4615, 'somehow': 4616, 'congâž¡': 4617, 'modiâž¡gareeb': 4618, 'â†ªsays': 4619, 'frm': 4620, 'â†ªalso': 4621, 'poverty': 4622, 'livid': 4623, '2fulfill': 4624, 'farm': 4625, 'sowas': 4626, 'flw': 4627, 'bait': 4628, 'unity': 4629, 'identity': 4630, 'developmenta': 4631, '202425a': 4632, '2022opposition': 4633, 'dey': 4634, 'corrupts': 4635, 'economist': 4636, 'upaii': 4637, 'capitaloutput': 4638, '201213': 4639, 'inefficient': 4640, 'improved': 4641, 'histiry': 4642, 'jews': 4643, 'core': 4644, 'france': 4645, 'dassault': 4646, 'cowkidarof': 4647, 'escaping': 4648, 'ran': 4649, 'lookout': 4650, 'ntce': 4651, 'moron': 4652, 'deals': 4653, 'evasion': 4654, 'licking': 4655, 'sucking': 4656, 'starvation': 4657, 'fakest': 4658, 'mongering': 4659, 'worldtry': 4660, 'weapon': 4661, 'diffrently': 4662, '201924': 4663, 'blazer': 4664, 'govtcompleted': 4665, 'kannur': 4666, 'kerela': 4667, 'yrothers': 4668, '1947for': 4669, 'nowthen': 4670, 'obstructing': 4671, 'dbt': 4672, 'nose': 4673, 'dived': 4674, 'curruption': 4675, 'domain': 4676, 'ambanis': 4677, 'napkins': 4678, '5year': 4679, 'doctrine': 4680, 'retain': 4681, 'ruckus': 4682, 'nsso': 4683, 'cmie': 4684, 'ideas': 4685, 'namumkin': 4686, 'damodar': 4687, 'nmo': 4688, 'plzzzzzzand': 4689, 'zirakpur': 4690, 'mbl': 4691, '9646741311': 4692, 'honor': 4693, 'guv': 4694, 'navigating': 4695, 'looteyns': 4696, 'stacked': 4697, 'easy': 4698, 'mortals': 4699, 'mining': 4700, 'cole': 4701, 'ungrateful': 4702, 'speech': 4703, 'asuddain': 4704, 'owasi': 4705, 'mouths': 4706, 'beef': 4707, 'pers': 4708, 'corpo': 4709, 'loans': 4710, 'insti': 4711, 'subverted': 4712, 'ministrs': 4713, 'wheels': 4714, 'goodintelligent': 4715, 'jersey': 4716, 'hybrid': 4717, 'calf': 4718, 'handedly': 4719, 'discourse': 4720, 'reelection': 4721, 'hoardings': 4722, 'sequel': 4723, 'checked': 4724, 'net': 4725, 'original': 4726, 'republican': 4727, 'disrupted': 4728, 'farming': 4729, 'middleclass': 4730, 'dismantled': 4731, 'spectacular': 4732, 'vadodra': 4733, 'standoff': 4734, 'asthana': 4735, 'cop': 4736, 'huffpost': 4737, 'behaves': 4738, 'ashley': 4739, 'tellis': 4740, 'â€œfor': 4741, 'histrionics': 4742, 'marked': 4743, 'however': 4744, 'incomplete': 4745, 'strategic': 4746, 'fortunes': 4747, 'timeâ€\\x9d': 4748, 'grand': 4749, 'abdicating': 4750, 'responsibility': 4751, 'projecting': 4752, 'lightweight': 4753, 'backed': 4754, 'minelooters': 4755, 'fugitives': 4756, 'eye': 4757, 'opener': 4758, 'shielded': 4759, 'confirmation': 4760, 'chaukidar': 4761, 'par': 4762, 'karta': 4763, 'cheater': 4764, 'sadasya': 4765, 'lifestyle': 4766, 'sat': 4767, 'loser': 4768, 'cheaters': 4769, 'prosper': 4770, 'undone': 4771, 'neglect': 4772, 'legacy': 4773, 'legends': 4774, 'forefront': 4775, 'governmentâ€™': 4776, 'motto': 4777, 'â€˜india': 4778, 'firstâ€™': 4779, 'helpless': 4780, 'injured': 4781, 'gundas': 4782, 'insulted': 4783, 'incredible': 4784, 'indiacan': 4785, 'tolerant': 4786, 'civilised': 4787, 'sentiment': 4788, 'granted': 4789, 'leeway': 4790, 'avail': 4791, 'route': 4792, 'thousand': 4793, 'samjuta': 4794, 'girl': 4795, 'islam': 4796, 'forum': 4797, 'prachaar': 4798, 'untill': 4799, 'fame': 4800, 'dim': 4801, 'wits': 4802, 'filth': 4803, 'hurts': 4804, 'brandfake': 4805, 'smart': 4806, 'city': 4807, 'imaginary': 4808, 'illusive': 4809, 'bcuz': 4810, 'balochistan': 4811, 'kills': 4812, 'abhinanden': 4813, 'smoke': 4814, 'âœœï¸\\x8f': 4815, 'chidu': 4816, 'associate': 4817, 'noticed': 4818, 'neglected': 4819, 'function': 4820, '1980ties': 4821, 'arestruggling': 4822, 'obviously': 4823, 'oneâ€™': 4824, 'feedback': 4825, 'â€˜familyâ€™': 4826, 'rightâ€™': 4827, 'commitment': 4828, 'notice': 4829, 'tirugu': 4830, 'batu': 4831, 'potu': 4832, 'ycpmusugu': 4833, 'loo': 4834, 'potudhroham': 4835, 'helping': 4836, 'kedikcr': 4837, 'krishna': 4838, 'godavari': 4839, 'stead': 4840, 'neerab': 4841, 'bunglow': 4842, 'itwas': 4843, 'preferred': 4844, 'whywas': 4845, 'tracing': 4846, 'involvement': 4847, 'indiaevery': 4848, 'baised': 4849, 'complaintsnot': 4850, 'ownrailway': 4851, 'busairline': 4852, 'carry': 4853, 'xtremely': 4854, 'facilitating': 4855, 'ghatiyabandan': 4856, 'the2': 4857, 'lutyans': 4858, 'opposite': 4859, 'sustains': 4860, 'warned': 4861, 'aspect': 4862, 'acquittal': 4863, 'innumerable': 4864, 'unendingly': 4865, 'cleanchit': 4866, 'mediajournalist': 4867, 'jibes': 4868, 'taunts': 4869, 'keralites': 4870, 'supportersplace': 4871, 'stay': 4872, 'ekmbjp': 4873, 'mocked': 4874, 'pinned': 4875, 'swagger': 4876, 'bodies': 4877, 'marriage': 4878, 'certificate': 4879, 'honeble': 4880, 'compain': 4881, 'aam': 4882, 'festive': 4883, 'lelceted': 4884, 'gaves': 4885, 'â€˜main': 4886, 'chowkidarâ€™': 4887, 'cronyism': 4888, 'cry': 4889, 'unholy': 4890, 'grabbing': 4891, 'rivals': 4892, 'bandwagon': 4893, 'controversy': 4894, 'escalates': 4895, 'â€œmodiâ€™': 4896, 'echoing': 4897, 'established': 4898, 'leadershipâ€\\x9d': 4899, 'chnaged': 4900, 'indiamodi': 4901, 'sensibly': 4902, 'chirkuts': 4903, '200': 4904, 'fragile': 4905, '11th': 4906, '243': 4907, '308': 4908, 'average': 4909, 'presentations': 4910, 'starting': 4911, 'salute': 4912, 'banenge': 4913, 'layenge': 4914, 'dobara': 4915, 'neeti': 4916, 'uss': 4917, 'jazbe': 4918, 'kadr': 4919, 'decisions': 4920, 'opinionswe': 4921, 'buthes': 4922, '2029': 4923, 'memories': 4924, 'encounter': 4925, 'crocodiles': 4926, 'baby': 4927, 'childhood': 4928, 'khoon': 4929, 'bhari': 4930, 'maang': 4931, 'aunty': 4932, 'resignas': 4933, 'doubtdefence': 4934, 'jobinfact': 4935, 'bark': 4936, 'loudly': 4937, 'vanished': 4938, 'resignotherwise': 4939, 'janhit': 4940, 'yachikanot': 4941, 'costitutional': 4942, 'dutydoing': 4943, 'surprised': 4944, 'kovind': 4945, 'rahulji': 4946, 'donot': 4947, 'jumlas': 4948, 'doingso': 4949, 'danger': 4950, 'modijis': 4951, 'particular': 4952, 'staff': 4953, 'doingjounke': 4954, 'depart': 4955, 'rakhsakta': 4956, 'baare': 4957, 'sochsaktha': 4958, 'haiso': 4959, 'private': 4960, 'razacker': 4961, 'mainstream': 4962, 'prescribe': 4963, 'hoots': 4964, 'personality': 4965, 'deliberate': 4966, 'mislead': 4967, 'york': 4968, 'tonight': 4969, 'john': 4970, 'oliver': 4971, 'hbo': 4972, 'servants': 4973, 'rob': 4974, 'statistics': 4975, 'robbery': 4976, 'levels': 4977, 'begged': 4978, 'ohk': 4979, 'ghosts': 4980, 'sikhs': 4981, 'wasnâ€™': 4982, 'connected': 4983, 'connects': 4984, 'endorsed': 4985, 'constitutional': 4986, 'chair': 4987, 'discharge': 4988, 'gather': 4989, 'rhetoric': 4990, 'refrain': 4991, 'authorityi': 4992, 'wonderful': 4993, 'anoop': 4994, 'noida': 4995, 'analogy': 4996, 'dates': 4997, 'amended': 4998, 'standalone': 4999, 'status': 5000, 'establishment': 5001, 'chaukidaarchorhai': 5002, 'responded': 5003, 'maibhichaukidaar': 5004, 'unemployed': 5005, 'faults': 5006, 'prasoon': 5007, 'joshi': 5008, 'qna': 5009, 'tagged': 5010, 'amazing': 5011, 'appear': 5012, 'nonbhakt': 5013, 'afterwards': 5014, 'anpad': 5015, 'ankitaise': 5016, 'bolegaaadont': 5017, 'surprise': 5018, 'andh': 5019, 'singhcharge': 5020, 'sheet': 5021, 'endsmodi': 5022, 'istutias': 5023, 'cover': 5024, 'immature': 5025, 'pres': 5026, 'hasnt': 5027, 'mouthing': 5028, 'modifobia': 5029, 'bmc': 5030, 'regularise': 5031, 'evidence': 5032, 'insider': 5033, 'info': 5034, 'quid': 5035, 'quo': 5036, 'comparing': 5037, 'gaurav': 5038, 'gori': 5039, 'chamdi': 5040, 'wali': 5041, 'specifically': 5042, 'notified': 5043, 'appealing': 5044, 'censor': 5045, 'releasing': 5046, 'blur': 5047, 'oberois': 5048, 'scenes': 5049, 'aapa': 5050, 'suggestion': 5051, 'areworking': 5052, 'hometownsfor': 5053, 'travel': 5054, 'kms': 5055, 'introduce': 5056, 'helpful': 5057, 'onetime': 5058, 'pulling': 5059, '1970s': 5060, 'washington': 5061, 'jan23': 5062, 'wining': 5063, 'suggest': 5064, 'tks': 5065, 'vicepresident': 5066, 'prabhari': 5067, 'rai': 5068, 'khanna': 5069, 'asserted': 5070, 'recognition': 5071, 'battle': 5072, 'ladakhi': 5073, 'addressing': 5074, 'kendraâ€¦': 5075, 'russia': 5076, 'jinping': 5077, 'nihalchand': 5078, 'sanskari': 5079, 'akhnoor': 5080, 'firing': 5081, 'salvo': 5082, 'deputy': 5083, 'tara': 5084, 'chand': 5085, 'alleged': 5086, 'interacting': 5087, 'dense': 5088, 'authoritarian': 5089, 'neha': 5090, 'resident': 5091, 'destruction': 5092, 'affect': 5093, 'secretly': 5094, 'greetings': 5095, 'beffiting': 5096, 'arent': 5097, 'rauls': 5098, 'locations': 5099, 'activity': 5100, 'enegry': 5101, 'â˜º': 5102, 'shanti': 5103, 'telangana': 5104, 'heartedly': 5105, 'trs': 5106, 'handed': 5107, 'heartbeat': 5108, 'soul': 5109, 'dais': 5110, 'manmohan': 5111, 'subside': 5112, 'lpg': 5113, 'bankers': 5114, 'cambridge': 5115, 'analytica': 5116, 'spewing': 5117, 'venom': 5118, 'stealing': 5119, 'dynasts': 5120, 'naturally': 5121, 'salaries': 5122, 'employee': 5123, 'stick': 5124, 'â€œandheraâ€\\x9d': 5125, 'bites': 5126, 'dubious': 5127, 'lokpal': 5128, 'fat': 5129, 'arriviste': 5130, 'converting': 5131, 'unsafe': 5132, 'piece': 5133, 'betwhile': 5134, 'rabid': 5135, 'divisive': 5136, 'historyfast': 5137, 'tracking': 5138, 'implosion': 5139, 'â€œvikas': 5140, 'purushâ€\\x9d': 5141, 'chanting': 5142, 'diesel': 5143, 'immortal': 5144, 'acceptable': 5145, 'papers': 5146, 'meets': 5147, 'amid': 5148, 'membership': 5149, 'backandforth': 5150, 'whereas': 5151, 'silly': 5152, 'mange': 5153, 'vishwa': 5154, 'slams': 5155, 'tested': 5156, 'coarse': 5157, 'ignites': 5158, 'leaving': 5159, 'empty': 5160, 'improvement': 5161, 'overseen': 5162, 'corporate': 5163, 'exploitation': 5164, 'à¥\\x8dà¥‡': 5165, 'aleady': 5166, 'arrived': 5167, 'spme': 5168, 'forms': 5169, 'center': 5170, 'secularist': 5171, 'sanatana': 5172, 'delebaratly': 5173, 'retweet': 5174, 'â€œchowkidar': 5175, 'groups': 5176, 'tagline': 5177, 'projects': 5178, 'rafeal': 5179, '400': 5180, 'careful': 5181, 'businessman': 5182, 'completion': 5183, 'caps': 5184, 'building': 5185, 'button': 5186, 'arenâ€™': 5187, 'apples': 5188, 'oranges': 5189, 'âš¡fintechâš¡': 5190, 'additions': 5191, 'existing': 5192, 'reducing': 5193, 'begusarai': 5194, 'entry': 5195, 'countering': 5196, 'countrypeople': 5197, 'congrss': 5198, 'milawat': 5199, 'satta': 5200, 'swarth': 5201, 'shoshan': 5202, 'targets': 5203, 'night': 5204, 'sorrow': 5205, 'joy': 5206, 'genius': 5207, 'republic': 5208, '490': 5209, 'daughter': 5210, 'mukesh': 5211, 'posting': 5212, 'vulgarity': 5213, 'modihe': 5214, 'equip': 5215, 'equipment': 5216, 'sis': 5217, 'transformed': 5218, 'infrastructure': 5219, 'upside': 5220, 'sky': 5221, 'stratosphere': 5222, 'limit': 5223, 'malign': 5224, 'faithful': 5225, 'traversed': 5226, 'narindra': 5227, 'beating': 5228, 'specially': 5229, 'stone': 5230, 'kill': 5231, 'move': 5232, 'brothers': 5233, 'hosting': 5234, 'properly': 5235, 'publicand': 5236, 'lover': 5237, 'fodder': 5238, 'frustration': 5239, 'assure': 5240, 'frustrated': 5241, 'afresh': 5242, 'promisedâ€\\x9d': 5243, 'headgears': 5244, 'authority': 5245, 'troll': 5246, 'railing': 5247, 'skin': 5248, 'indeed': 5249, 'premarriage': 5250, 'nationality': 5251, 'breach': 5252, 'conduct': 5253, 'vile': 5254, 'à¤¾à¥€': 5255, 'à¤¾à¥‡à¤‚': 5256, 'à¤¾': 5257, 'debates': 5258, 'kudos': 5259, 'heavyweight': 5260, 'efficient': 5261, 'à¥œà¤¼à¥‡à¤‚à¥‡': 5262, 'à¥€à¥‡à¤‚à¥‡': 5263, 'dangerous': 5264, 'declares': 5265, 'lifewill': 5266, 'neonormal': 5267, 'tired': 5268, 'foul': 5269, 'tijoari': 5270, 'panja': 5271, 'padne': 5272, 'dunga': 5273, 'servent': 5274, '14days': 5275, 'bfr': 5276, 'conveniently': 5277, 'kick': 5278, 'boarding': 5279, 'passes': 5280, 'enterprises': 5281, 'barely': 5282, 'decade': 5283, 'claimed': 5284, 'modani': 5285, 'constructive': 5286, 'indo': 5287, 'toed': 5288, 'extremism': 5289, 'raping': 5290, 'blinding': 5291, 'pellets': 5292, 'interferingwhy': 5293, 'zero': 5294, 'spectator': 5295, 'officers': 5296, 'openly': 5297, 'exchange': 5298, 'pmimran': 5299, 'tke': 5300, 'indianstaterss': 5301, 'brutel': 5302, 'thy': 5303, 'lodha': 5304, 'scamster': 5305, 'cheated': 5306, 'pretense': 5307, 'satisfying': 5308, 'hunger': 5309, 'investors': 5310, 'coincided': 5311, '2009': 5312, 'oct': 5313, '2012': 5314, 'demonizing': 5315, 'khejrival': 5316, 'advent': 5317, 'dictatorship': 5318, 'signs': 5319, 'financialxpress': 5320, 'relative': 5321, 'banerjees': 5322, 'positionthis': 5323, 'milavat': 5324, 'chiwkidar': 5325, 'stays': 5326, 'fate': 5327, 'inducted': 5328, 'ch47f': 5329, 'haxinda': 5330, 'ardern': 5331, 'sympathy': 5332, 'maher': 5333, 'christchurch': 5334, 'hungry': 5335, 'psycho': 5336, 'sakte': 5337, 'utar': 5338, 'kyu': 5339, 'jaate': 5340, 'priorities': 5341, 'farrukh': 5342, 'varansi': 5343, 'anywhere': 5344, 'ridiculous': 5345, 'anonymous': 5346, 'ivr': 5347, 'suspect': 5348, 'fishy': 5349, 'disappearance': 5350, 'shalinilobo93': 5351, 'abe': 5352, 'gadhe': 5353, 'debit': 5354, 'banks': 5355, 'putting': 5356, 'misery': 5357, 'utter': 5358, 'flop': 5359, 'apologises': 5360, 'fall': 5361, 'stampedelike': 5362, 'rally': 5363, 'nonesense': 5364, 'laugh': 5365, 'answers': 5366, 'flags': 5367, 'consesus': 5368, 'programme': 5369, 'ysrcp': 5370, 'modiamit': 5371, 'bjptrsysrcp': 5372, 'grouses': 5373, 'myself': 5374, 'lauding': 5375, '1400': 5376, 'string': 5377, 'iims': 5378, 'harvards': 5379, 'terms': 5380, 'janardhana': 5381, 'poojary': 5382, 'dissastorous': 5383, 'dicission': 5384, 'industraliat': 5385, 'batted': 5386, 'canvass': 5387, 'basis': 5388, 'someones': 5389, 'barred': 5390, 'reallywhat': 5391, 'hateful': 5392, 'philosophy': 5393, 'elephantâ€™': 5394, 'npci': 5395, 'org': 5396, 'bhim': 5397, 'founded': 5398, 'youll': 5399, 'championed': 5400, 'rupay': 5401, 'cts': 5402, 'betteri': 5403, 'complaining': 5404, 'vodafone': 5405, 'crushed': 5406, 'jaw': 5407, 'shouted': 5408, 'counts': 5409, 'appeals': 5410, 'tweetstorm': 5411, '2004': 5412, 'strategy': 5413, 'antiincumbency': 5414, 'starts': 5415, 'range': 5416, 'prediction': 5417, 'stunt': 5418, 'divert': 5419, 'encash': 5420, 'enjoying': 5421, 'luxury': 5422, 'bhagirath': 5423, 'kalyug': 5424, 'underâ\\xa0modi': 5425, 'chalein': 5426, 'khush': 5427, 'rahein': 5428, 'standards': 5429, 'botiboti': 5430, 'pieces': 5431, 'deshbhakti': 5432, 'bhakti': 5433, '150': 5434, 'insight': 5435, 'sitebjp': 5436, 'congratulates': 5437, 'railways': 5438, 'stunning': 5439, 'revamped': 5440, 'younbspawestruck': 5441, 'governmentà¤\\x8fà¤•': 5442, 'à¤¿à¥‡': 5443, 'à¥\\x8dà¥\\x8d': 5444, 'sharif': 5445, 'invitation': 5446, 'saree': 5447, 'gifted': 5448, 'pathankot': 5449, 'provided': 5450, 'â€˜beti': 5451, 'padhaoâ€™': 5452, 'impact': 5453, 'assessment': 5454, 'fronts': 5455, 'spoiled': 5456, 'neighbor': 5457, 'inferior': 5458, 'belong': 5459, 'cult': 5460, 'uniform': 5461, 'civil': 5462, 'define': 5463, 'demand': 5464, 'split': 5465, 'milk': 5466, 'creation': 5467, 'distored': 5468, 'brits': 5469, 'clan': 5470, 'cabals': 5471, 'à¯‡à¯\\x8dà¯\\x8dà¯\\x81à¯\\x8dà¯\\x8d2019': 5472, 'allotted': 5473, 'dmkaiadmk': 5474, 'vaigai': 5475, 'dam': 5476, 'aiadmktn': 5477, 'rengarajan': 5478, 'neet': 5479, 'aiadmk': 5480, 'bjpcong': 5481, 'sleep': 5482, 'consumer': 5483, 'jithis': 5484, 'progresswe': 5485, 'easthamne': 5486, 'suna': 5487, 'childrenfriends': 5488, 'advance': 5489, 'expecting': 5490, 'reward': 5491, 'chosen': 5492, 'unique': 5493, 'encyclopedia': 5494, 'fervor': 5495, 'woo': 5496, 'shitty': 5497, 'flight': 5498}\n"
     ]
    }
   ],
   "source": [
    "print(tokenizer.word_index)"
   ]
  },
  {
   "cell_type": "code",
   "execution_count": 14,
   "id": "eb82b8ed",
   "metadata": {},
   "outputs": [
    {
     "name": "stdout",
     "output_type": "stream",
     "text": [
      "when modi promised â€œminimum government maximum governanceâ€ expected him begin the difficult job reforming the state why does take years get justice state should and not business and should exit psus and temples\n",
      "[57, 1, 523, 2191, 48, 2192, 2193, 631, 53, 1301, 2, 1302, 210, 2194, 2, 139, 32, 168, 83, 43, 67, 937, 139, 41, 3, 11, 938, 3, 41, 1303, 1304, 3, 939]\n"
     ]
    }
   ],
   "source": [
    "print(tweet[0])\n",
    "print(encoded_docs[0])"
   ]
  },
  {
   "cell_type": "code",
   "execution_count": 15,
   "id": "427ff188",
   "metadata": {},
   "outputs": [
    {
     "name": "stdout",
     "output_type": "stream",
     "text": [
      "[   0    0    0    0    0    0    0    0    0    0    0    0    0    0\n",
      "    0    0    0    0    0    0    0    0    0    0    0    0    0    0\n",
      "    0    0    0    0    0    0    0    0    0    0    0    0    0    0\n",
      "    0    0    0    0    0    0    0    0    0    0    0    0    0    0\n",
      "    0    0    0    0    0    0    0    0    0    0    0    0    0    0\n",
      "    0    0    0    0    0    0    0    0    0    0    0    0    0    0\n",
      "    0    0    0    0    0    0    0    0    0    0    0    0    0    0\n",
      "    0    0    0    0    0    0    0    0    0    0    0    0    0    0\n",
      "    0    0    0    0    0    0    0    0    0    0    0    0    0    0\n",
      "    0    0    0    0    0    0    0    0    0    0    0    0    0    0\n",
      "    0    0    0    0    0    0    0    0    0    0    0    0    0    0\n",
      "    0    0    0    0    0    0    0    0    0    0    0    0    0   57\n",
      "    1  523 2191   48 2192 2193  631   53 1301    2 1302  210 2194    2\n",
      "  139   32  168   83   43   67  937  139   41    3   11  938    3   41\n",
      " 1303 1304    3  939]\n"
     ]
    }
   ],
   "source": [
    "print(padded_sequence[0])"
   ]
  },
  {
   "cell_type": "code",
   "execution_count": 16,
   "id": "938a50d1",
   "metadata": {},
   "outputs": [
    {
     "name": "stdout",
     "output_type": "stream",
     "text": [
      "Model: \"sequential\"\n",
      "_________________________________________________________________\n",
      " Layer (type)                Output Shape              Param #   \n",
      "=================================================================\n",
      " embedding (Embedding)       (None, 200, 32)           175968    \n",
      "                                                                 \n",
      " spatial_dropout1d (SpatialD  (None, 200, 32)          0         \n",
      " ropout1D)                                                       \n",
      "                                                                 \n",
      " lstm (LSTM)                 (None, 50)                16600     \n",
      "                                                                 \n",
      " dropout (Dropout)           (None, 50)                0         \n",
      "                                                                 \n",
      " dense (Dense)               (None, 1)                 51        \n",
      "                                                                 \n",
      "=================================================================\n",
      "Total params: 192,619\n",
      "Trainable params: 192,619\n",
      "Non-trainable params: 0\n",
      "_________________________________________________________________\n",
      "None\n"
     ]
    }
   ],
   "source": [
    "embedding_vector_length = 32\n",
    "model = Sequential() \n",
    "model.add(Embedding(vocab_size, embedding_vector_length, input_length=200) )\n",
    "model.add(SpatialDropout1D(0.25))\n",
    "model.add(LSTM(50, dropout=0.5, recurrent_dropout=0.5))\n",
    "model.add(Dropout(0.2))\n",
    "model.add(Dense(1, activation='sigmoid')) \n",
    "model.compile(loss='binary_crossentropy',optimizer='adam', metrics=['accuracy'])  \n",
    "print(model.summary()) "
   ]
  },
  {
   "cell_type": "code",
   "execution_count": 17,
   "id": "ab82873c",
   "metadata": {},
   "outputs": [
    {
     "name": "stdout",
     "output_type": "stream",
     "text": [
      "Epoch 1/10\n",
      "25/25 [==============================] - 16s 388ms/step - loss: 0.6666 - accuracy: 0.6624 - val_loss: 0.6257 - val_accuracy: 0.6684\n",
      "Epoch 2/10\n",
      "25/25 [==============================] - 9s 375ms/step - loss: 0.6368 - accuracy: 0.6675 - val_loss: 0.6228 - val_accuracy: 0.6684\n",
      "Epoch 3/10\n",
      "25/25 [==============================] - 7s 283ms/step - loss: 0.6116 - accuracy: 0.6675 - val_loss: 0.6130 - val_accuracy: 0.6684\n",
      "Epoch 4/10\n",
      "25/25 [==============================] - 8s 336ms/step - loss: 0.5624 - accuracy: 0.6701 - val_loss: 0.5867 - val_accuracy: 0.6684\n",
      "Epoch 5/10\n",
      "25/25 [==============================] - 9s 362ms/step - loss: 0.3878 - accuracy: 0.8491 - val_loss: 0.6876 - val_accuracy: 0.7143\n",
      "Epoch 6/10\n",
      "25/25 [==============================] - 5s 186ms/step - loss: 0.3399 - accuracy: 0.8875 - val_loss: 0.5857 - val_accuracy: 0.7092\n",
      "Epoch 7/10\n",
      "25/25 [==============================] - 10891s 454s/step - loss: 0.2094 - accuracy: 0.9361 - val_loss: 0.5301 - val_accuracy: 0.7500\n",
      "Epoch 8/10\n",
      "25/25 [==============================] - 4s 140ms/step - loss: 0.1187 - accuracy: 0.9731 - val_loss: 0.5641 - val_accuracy: 0.7500\n",
      "Epoch 9/10\n",
      "25/25 [==============================] - 5344s 223s/step - loss: 0.0837 - accuracy: 0.9834 - val_loss: 0.6704 - val_accuracy: 0.7347\n",
      "Epoch 10/10\n",
      "25/25 [==============================] - 6s 248ms/step - loss: 0.0629 - accuracy: 0.9910 - val_loss: 0.6264 - val_accuracy: 0.7755\n"
     ]
    }
   ],
   "source": [
    "history = model.fit(padded_sequence,sentiment_label[0],validation_split=0.2, epochs=10, batch_size=32)"
   ]
  },
  {
   "cell_type": "code",
   "execution_count": null,
   "id": "b8691038",
   "metadata": {},
   "outputs": [],
   "source": [
    "def predict_sentiment(text):\n",
    "    tw = tokenizer.texts_to_sequences([text])\n",
    "    tw = pad_sequences(tw,maxlen=200)\n",
    "    prediction = int(model.predict(tw).round().item())\n",
    "    print(\"Predicted label: \", sentiment_label[1][prediction])"
   ]
  },
  {
   "cell_type": "code",
   "execution_count": null,
   "id": "a8318f8a",
   "metadata": {},
   "outputs": [],
   "source": [
    "test_sentence1 = \"Disappointed with the BJP governments by therir specific policy or action\"\n",
    "predict_sentiment(test_sentence1)"
   ]
  },
  {
   "cell_type": "code",
   "execution_count": null,
   "id": "f728f39b",
   "metadata": {},
   "outputs": [],
   "source": []
  }
 ],
 "metadata": {
  "kernelspec": {
   "display_name": "Python 3 (ipykernel)",
   "language": "python",
   "name": "python3"
  },
  "language_info": {
   "codemirror_mode": {
    "name": "ipython",
    "version": 3
   },
   "file_extension": ".py",
   "mimetype": "text/x-python",
   "name": "python",
   "nbconvert_exporter": "python",
   "pygments_lexer": "ipython3",
   "version": "3.10.9"
  }
 },
 "nbformat": 4,
 "nbformat_minor": 5
}
